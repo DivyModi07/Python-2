{
 "cells": [
  {
   "cell_type": "code",
   "execution_count": 152,
   "metadata": {},
   "outputs": [],
   "source": [
    "import pandas as pd\n",
    "import numpy as np"
   ]
  },
  {
   "cell_type": "code",
   "execution_count": 5,
   "metadata": {},
   "outputs": [
    {
     "name": "stdout",
     "output_type": "stream",
     "text": [
      "0    vishal\n",
      "1     Kavit\n",
      "2    Manish\n",
      "dtype: object\n"
     ]
    }
   ],
   "source": [
    "Friends=['vishal','Kavit','Manish']\n",
    "x=pd.Series(Friends)\n",
    "print(x)"
   ]
  },
  {
   "cell_type": "code",
   "execution_count": 16,
   "metadata": {},
   "outputs": [
    {
     "name": "stdout",
     "output_type": "stream",
     "text": [
      "<class 'pandas.core.series.Series'>\n",
      "a   NaN\n",
      "b   NaN\n",
      "c   NaN\n",
      "d   NaN\n",
      "e   NaN\n",
      "dtype: float64\n"
     ]
    }
   ],
   "source": [
    "# marks=[90,88,94,96,92]\n",
    "# subject=['Python','FSD','COA','TOC','DM']\n",
    "d={'Python':90,'FSD':88,'COA':94,'TOC':96,'DM':92}\n",
    "# x=pd.Series(marks,index=subject)\n",
    "x=pd.Series(d,index=['a','b','c','d','e'])\n",
    "print(type(x))\n",
    "print(x)"
   ]
  },
  {
   "cell_type": "code",
   "execution_count": 18,
   "metadata": {},
   "outputs": [
    {
     "name": "stdout",
     "output_type": "stream",
     "text": [
      "[1, 2]\n",
      "0    1\n",
      "1    2\n",
      "dtype: int64\n",
      "0    999\n",
      "1      2\n",
      "dtype: int64\n",
      "[1, 2]\n"
     ]
    }
   ],
   "source": [
    "r=[1,2]\n",
    "series=pd.Series(r,copy=False)\n",
    "print(r)\n",
    "print(series)\n",
    "series.iloc[0]=999\n",
    "print(series)\n",
    "print(r)"
   ]
  },
  {
   "cell_type": "code",
   "execution_count": 3,
   "metadata": {},
   "outputs": [
    {
     "name": "stdout",
     "output_type": "stream",
     "text": [
      "[1, 2]\n",
      "0    1\n",
      "1    2\n",
      "dtype: int64\n",
      "0    999\n",
      "1      2\n",
      "dtype: int64\n",
      "[1, 2]\n"
     ]
    },
    {
     "data": {
      "text/html": [
       "<div>\n",
       "<style scoped>\n",
       "    .dataframe tbody tr th:only-of-type {\n",
       "        vertical-align: middle;\n",
       "    }\n",
       "\n",
       "    .dataframe tbody tr th {\n",
       "        vertical-align: top;\n",
       "    }\n",
       "\n",
       "    .dataframe thead th {\n",
       "        text-align: right;\n",
       "    }\n",
       "</style>\n",
       "<table border=\"1\" class=\"dataframe\">\n",
       "  <thead>\n",
       "    <tr style=\"text-align: right;\">\n",
       "      <th></th>\n",
       "      <th>Year</th>\n",
       "      <th>Industry_aggregation_NZSIOC</th>\n",
       "      <th>Industry_code_NZSIOC</th>\n",
       "      <th>Industry_name_NZSIOC</th>\n",
       "      <th>Units</th>\n",
       "      <th>Variable_code</th>\n",
       "      <th>Variable_name</th>\n",
       "      <th>Variable_category</th>\n",
       "      <th>Value</th>\n",
       "      <th>Industry_code_ANZSIC06</th>\n",
       "    </tr>\n",
       "  </thead>\n",
       "  <tbody>\n",
       "    <tr>\n",
       "      <th>0</th>\n",
       "      <td>2023</td>\n",
       "      <td>Level 1</td>\n",
       "      <td>99999</td>\n",
       "      <td>All industries</td>\n",
       "      <td>Dollars (millions)</td>\n",
       "      <td>H01</td>\n",
       "      <td>Total income</td>\n",
       "      <td>Financial performance</td>\n",
       "      <td>930995</td>\n",
       "      <td>ANZSIC06 divisions A-S (excluding classes K633...</td>\n",
       "    </tr>\n",
       "    <tr>\n",
       "      <th>1</th>\n",
       "      <td>2023</td>\n",
       "      <td>Level 1</td>\n",
       "      <td>99999</td>\n",
       "      <td>All industries</td>\n",
       "      <td>Dollars (millions)</td>\n",
       "      <td>H04</td>\n",
       "      <td>Sales, government funding, grants and subsidies</td>\n",
       "      <td>Financial performance</td>\n",
       "      <td>821630</td>\n",
       "      <td>ANZSIC06 divisions A-S (excluding classes K633...</td>\n",
       "    </tr>\n",
       "    <tr>\n",
       "      <th>2</th>\n",
       "      <td>2023</td>\n",
       "      <td>Level 1</td>\n",
       "      <td>99999</td>\n",
       "      <td>All industries</td>\n",
       "      <td>Dollars (millions)</td>\n",
       "      <td>H05</td>\n",
       "      <td>Interest, dividends and donations</td>\n",
       "      <td>Financial performance</td>\n",
       "      <td>84354</td>\n",
       "      <td>ANZSIC06 divisions A-S (excluding classes K633...</td>\n",
       "    </tr>\n",
       "    <tr>\n",
       "      <th>3</th>\n",
       "      <td>2023</td>\n",
       "      <td>Level 1</td>\n",
       "      <td>99999</td>\n",
       "      <td>All industries</td>\n",
       "      <td>Dollars (millions)</td>\n",
       "      <td>H07</td>\n",
       "      <td>Non-operating income</td>\n",
       "      <td>Financial performance</td>\n",
       "      <td>25010</td>\n",
       "      <td>ANZSIC06 divisions A-S (excluding classes K633...</td>\n",
       "    </tr>\n",
       "    <tr>\n",
       "      <th>4</th>\n",
       "      <td>2023</td>\n",
       "      <td>Level 1</td>\n",
       "      <td>99999</td>\n",
       "      <td>All industries</td>\n",
       "      <td>Dollars (millions)</td>\n",
       "      <td>H08</td>\n",
       "      <td>Total expenditure</td>\n",
       "      <td>Financial performance</td>\n",
       "      <td>832964</td>\n",
       "      <td>ANZSIC06 divisions A-S (excluding classes K633...</td>\n",
       "    </tr>\n",
       "    <tr>\n",
       "      <th>...</th>\n",
       "      <td>...</td>\n",
       "      <td>...</td>\n",
       "      <td>...</td>\n",
       "      <td>...</td>\n",
       "      <td>...</td>\n",
       "      <td>...</td>\n",
       "      <td>...</td>\n",
       "      <td>...</td>\n",
       "      <td>...</td>\n",
       "      <td>...</td>\n",
       "    </tr>\n",
       "    <tr>\n",
       "      <th>50980</th>\n",
       "      <td>2013</td>\n",
       "      <td>Level 3</td>\n",
       "      <td>ZZ11</td>\n",
       "      <td>Food product manufacturing</td>\n",
       "      <td>Percentage</td>\n",
       "      <td>H37</td>\n",
       "      <td>Quick ratio</td>\n",
       "      <td>Financial ratios</td>\n",
       "      <td>52</td>\n",
       "      <td>ANZSIC06 groups C111, C112, C113, C114, C115, ...</td>\n",
       "    </tr>\n",
       "    <tr>\n",
       "      <th>50981</th>\n",
       "      <td>2013</td>\n",
       "      <td>Level 3</td>\n",
       "      <td>ZZ11</td>\n",
       "      <td>Food product manufacturing</td>\n",
       "      <td>Percentage</td>\n",
       "      <td>H38</td>\n",
       "      <td>Margin on sales of goods for resale</td>\n",
       "      <td>Financial ratios</td>\n",
       "      <td>40</td>\n",
       "      <td>ANZSIC06 groups C111, C112, C113, C114, C115, ...</td>\n",
       "    </tr>\n",
       "    <tr>\n",
       "      <th>50982</th>\n",
       "      <td>2013</td>\n",
       "      <td>Level 3</td>\n",
       "      <td>ZZ11</td>\n",
       "      <td>Food product manufacturing</td>\n",
       "      <td>Percentage</td>\n",
       "      <td>H39</td>\n",
       "      <td>Return on equity</td>\n",
       "      <td>Financial ratios</td>\n",
       "      <td>12</td>\n",
       "      <td>ANZSIC06 groups C111, C112, C113, C114, C115, ...</td>\n",
       "    </tr>\n",
       "    <tr>\n",
       "      <th>50983</th>\n",
       "      <td>2013</td>\n",
       "      <td>Level 3</td>\n",
       "      <td>ZZ11</td>\n",
       "      <td>Food product manufacturing</td>\n",
       "      <td>Percentage</td>\n",
       "      <td>H40</td>\n",
       "      <td>Return on total assets</td>\n",
       "      <td>Financial ratios</td>\n",
       "      <td>5</td>\n",
       "      <td>ANZSIC06 groups C111, C112, C113, C114, C115, ...</td>\n",
       "    </tr>\n",
       "    <tr>\n",
       "      <th>50984</th>\n",
       "      <td>2013</td>\n",
       "      <td>Level 3</td>\n",
       "      <td>ZZ11</td>\n",
       "      <td>Food product manufacturing</td>\n",
       "      <td>Percentage</td>\n",
       "      <td>H41</td>\n",
       "      <td>Liabilities structure</td>\n",
       "      <td>Financial ratios</td>\n",
       "      <td>46</td>\n",
       "      <td>ANZSIC06 groups C111, C112, C113, C114, C115, ...</td>\n",
       "    </tr>\n",
       "  </tbody>\n",
       "</table>\n",
       "<p>50985 rows × 10 columns</p>\n",
       "</div>"
      ],
      "text/plain": [
       "       Year Industry_aggregation_NZSIOC Industry_code_NZSIOC  \\\n",
       "0      2023                     Level 1                99999   \n",
       "1      2023                     Level 1                99999   \n",
       "2      2023                     Level 1                99999   \n",
       "3      2023                     Level 1                99999   \n",
       "4      2023                     Level 1                99999   \n",
       "...     ...                         ...                  ...   \n",
       "50980  2013                     Level 3                 ZZ11   \n",
       "50981  2013                     Level 3                 ZZ11   \n",
       "50982  2013                     Level 3                 ZZ11   \n",
       "50983  2013                     Level 3                 ZZ11   \n",
       "50984  2013                     Level 3                 ZZ11   \n",
       "\n",
       "             Industry_name_NZSIOC               Units Variable_code  \\\n",
       "0                  All industries  Dollars (millions)           H01   \n",
       "1                  All industries  Dollars (millions)           H04   \n",
       "2                  All industries  Dollars (millions)           H05   \n",
       "3                  All industries  Dollars (millions)           H07   \n",
       "4                  All industries  Dollars (millions)           H08   \n",
       "...                           ...                 ...           ...   \n",
       "50980  Food product manufacturing          Percentage           H37   \n",
       "50981  Food product manufacturing          Percentage           H38   \n",
       "50982  Food product manufacturing          Percentage           H39   \n",
       "50983  Food product manufacturing          Percentage           H40   \n",
       "50984  Food product manufacturing          Percentage           H41   \n",
       "\n",
       "                                         Variable_name      Variable_category  \\\n",
       "0                                         Total income  Financial performance   \n",
       "1      Sales, government funding, grants and subsidies  Financial performance   \n",
       "2                    Interest, dividends and donations  Financial performance   \n",
       "3                                 Non-operating income  Financial performance   \n",
       "4                                    Total expenditure  Financial performance   \n",
       "...                                                ...                    ...   \n",
       "50980                                      Quick ratio       Financial ratios   \n",
       "50981              Margin on sales of goods for resale       Financial ratios   \n",
       "50982                                 Return on equity       Financial ratios   \n",
       "50983                           Return on total assets       Financial ratios   \n",
       "50984                            Liabilities structure       Financial ratios   \n",
       "\n",
       "        Value                             Industry_code_ANZSIC06  \n",
       "0      930995  ANZSIC06 divisions A-S (excluding classes K633...  \n",
       "1      821630  ANZSIC06 divisions A-S (excluding classes K633...  \n",
       "2       84354  ANZSIC06 divisions A-S (excluding classes K633...  \n",
       "3       25010  ANZSIC06 divisions A-S (excluding classes K633...  \n",
       "4      832964  ANZSIC06 divisions A-S (excluding classes K633...  \n",
       "...       ...                                                ...  \n",
       "50980      52  ANZSIC06 groups C111, C112, C113, C114, C115, ...  \n",
       "50981      40  ANZSIC06 groups C111, C112, C113, C114, C115, ...  \n",
       "50982      12  ANZSIC06 groups C111, C112, C113, C114, C115, ...  \n",
       "50983       5  ANZSIC06 groups C111, C112, C113, C114, C115, ...  \n",
       "50984      46  ANZSIC06 groups C111, C112, C113, C114, C115, ...  \n",
       "\n",
       "[50985 rows x 10 columns]"
      ]
     },
     "execution_count": 3,
     "metadata": {},
     "output_type": "execute_result"
    }
   ],
   "source": [
    "r=[1,2]\n",
    "series=pd.Series(r,copy=True)\n",
    "print(r)\n",
    "print(series)\n",
    "series.iloc[0]=999\n",
    "print(series)\n",
    "print(r)\n",
    "pd.read_csv('test.csv')"
   ]
  },
  {
   "cell_type": "code",
   "execution_count": 10,
   "metadata": {},
   "outputs": [
    {
     "data": {
      "text/html": [
       "<div>\n",
       "<style scoped>\n",
       "    .dataframe tbody tr th:only-of-type {\n",
       "        vertical-align: middle;\n",
       "    }\n",
       "\n",
       "    .dataframe tbody tr th {\n",
       "        vertical-align: top;\n",
       "    }\n",
       "\n",
       "    .dataframe thead th {\n",
       "        text-align: right;\n",
       "    }\n",
       "</style>\n",
       "<table border=\"1\" class=\"dataframe\">\n",
       "  <thead>\n",
       "    <tr style=\"text-align: right;\">\n",
       "      <th></th>\n",
       "      <th>Roll</th>\n",
       "    </tr>\n",
       "  </thead>\n",
       "  <tbody>\n",
       "    <tr>\n",
       "      <th>0</th>\n",
       "      <td>1</td>\n",
       "    </tr>\n",
       "    <tr>\n",
       "      <th>1</th>\n",
       "      <td>2</td>\n",
       "    </tr>\n",
       "    <tr>\n",
       "      <th>2</th>\n",
       "      <td>3</td>\n",
       "    </tr>\n",
       "    <tr>\n",
       "      <th>3</th>\n",
       "      <td>4</td>\n",
       "    </tr>\n",
       "    <tr>\n",
       "      <th>4</th>\n",
       "      <td>5</td>\n",
       "    </tr>\n",
       "    <tr>\n",
       "      <th>5</th>\n",
       "      <td>6</td>\n",
       "    </tr>\n",
       "    <tr>\n",
       "      <th>6</th>\n",
       "      <td>7</td>\n",
       "    </tr>\n",
       "    <tr>\n",
       "      <th>7</th>\n",
       "      <td>8</td>\n",
       "    </tr>\n",
       "    <tr>\n",
       "      <th>8</th>\n",
       "      <td>9</td>\n",
       "    </tr>\n",
       "    <tr>\n",
       "      <th>9</th>\n",
       "      <td>10</td>\n",
       "    </tr>\n",
       "  </tbody>\n",
       "</table>\n",
       "</div>"
      ],
      "text/plain": [
       "   Roll\n",
       "0     1\n",
       "1     2\n",
       "2     3\n",
       "3     4\n",
       "4     5\n",
       "5     6\n",
       "6     7\n",
       "7     8\n",
       "8     9\n",
       "9    10"
      ]
     },
     "execution_count": 10,
     "metadata": {},
     "output_type": "execute_result"
    }
   ],
   "source": [
    "pd.read_csv('rollno.csv')"
   ]
  },
  {
   "cell_type": "code",
   "execution_count": 21,
   "metadata": {},
   "outputs": [
    {
     "name": "stdout",
     "output_type": "stream",
     "text": [
      "        Roll  Python  FSD\n",
      "Divy       1      10    5\n",
      "Meet       2       9    9\n",
      "Vishal     3      10    8\n",
      "\n",
      "      Python  FSD\n",
      "Roll             \n",
      "1         10    5\n",
      "2          9    9\n",
      "3         10    8\n"
     ]
    }
   ],
   "source": [
    "df = pd.DataFrame([[1,10,5],[2,9,9],[3,10,8]],columns=['Roll','Python','FSD'],index=['Divy','Meet','Vishal'])\n",
    "df.set_index('Roll')\n",
    "print(df)\n",
    "df = df.set_index('Roll') # Permanent Change\n",
    "print()\n",
    "print(df)"
   ]
  },
  {
   "cell_type": "code",
   "execution_count": 46,
   "metadata": {},
   "outputs": [
    {
     "name": "stdout",
     "output_type": "stream",
     "text": [
      "   Roll  Python  FSD Uname\n",
      "1     1      10   30  good\n",
      "2     2      20   20   bad\n",
      "3     3      30   10   sad\n",
      "Roll       int64\n",
      "Python     int64\n",
      "FSD        int64\n",
      "Uname     object\n",
      "dtype: object\n",
      "Index(['Roll', 'Python', 'FSD', 'Uname'], dtype='object')\n",
      "Int64Index([1, 2, 3], dtype='int64')\n",
      "[Int64Index([1, 2, 3], dtype='int64'), Index(['Roll', 'Python', 'FSD', 'Uname'], dtype='object')]\n",
      "[[1 10 30 'good']\n",
      " [2 20 20 'bad']\n",
      " [3 30 10 'sad']]\n",
      "(3, 4)\n",
      "12\n"
     ]
    }
   ],
   "source": [
    "d={'Roll':[1,2,3],'Python':[10,20,30],'FSD':[30,20,10],'Uname':['good','bad','sad']}\n",
    "df = pd.DataFrame(d,index = [1,2,3])\n",
    "print(df)\n",
    "print(df.dtypes)\n",
    "print(df.columns)\n",
    "print(df.index)\n",
    "print(df.axes)\n",
    "print(df.values)\n",
    "print(df.shape)\n",
    "print(df.size)"
   ]
  },
  {
   "cell_type": "code",
   "execution_count": 56,
   "metadata": {},
   "outputs": [
    {
     "name": "stdout",
     "output_type": "stream",
     "text": [
      "   Roll   FSD  Python Remarks\n",
      "0     1  10.0     8.0       g\n",
      "1     2   9.0     8.0      vg\n",
      "2     3   6.0    10.0       b\n",
      "3     4   NaN     NaN       g\n",
      "4     5  10.0     8.0       b\n",
      "5     6   7.0     NaN       b\n",
      "6     7   6.0    10.0       g\n",
      "7     8   7.0    10.0       g\n",
      "8     9   6.0    10.0       g\n",
      "9    10   7.0    10.0       g\n"
     ]
    }
   ],
   "source": [
    "df = pd.read_csv('Roll2.csv')\n",
    "print(df)"
   ]
  },
  {
   "cell_type": "code",
   "execution_count": 59,
   "metadata": {},
   "outputs": [
    {
     "data": {
      "text/html": [
       "<div>\n",
       "<style scoped>\n",
       "    .dataframe tbody tr th:only-of-type {\n",
       "        vertical-align: middle;\n",
       "    }\n",
       "\n",
       "    .dataframe tbody tr th {\n",
       "        vertical-align: top;\n",
       "    }\n",
       "\n",
       "    .dataframe thead th {\n",
       "        text-align: right;\n",
       "    }\n",
       "</style>\n",
       "<table border=\"1\" class=\"dataframe\">\n",
       "  <thead>\n",
       "    <tr style=\"text-align: right;\">\n",
       "      <th></th>\n",
       "      <th>Roll</th>\n",
       "      <th>FSD</th>\n",
       "      <th>Python</th>\n",
       "      <th>Remarks</th>\n",
       "    </tr>\n",
       "  </thead>\n",
       "  <tbody>\n",
       "    <tr>\n",
       "      <th>0</th>\n",
       "      <td>1</td>\n",
       "      <td>10.0</td>\n",
       "      <td>8.0</td>\n",
       "      <td>g</td>\n",
       "    </tr>\n",
       "    <tr>\n",
       "      <th>1</th>\n",
       "      <td>2</td>\n",
       "      <td>9.0</td>\n",
       "      <td>8.0</td>\n",
       "      <td>vg</td>\n",
       "    </tr>\n",
       "    <tr>\n",
       "      <th>2</th>\n",
       "      <td>3</td>\n",
       "      <td>6.0</td>\n",
       "      <td>10.0</td>\n",
       "      <td>b</td>\n",
       "    </tr>\n",
       "  </tbody>\n",
       "</table>\n",
       "</div>"
      ],
      "text/plain": [
       "   Roll   FSD  Python Remarks\n",
       "0     1  10.0     8.0       g\n",
       "1     2   9.0     8.0      vg\n",
       "2     3   6.0    10.0       b"
      ]
     },
     "execution_count": 59,
     "metadata": {},
     "output_type": "execute_result"
    }
   ],
   "source": [
    "df.head(3) # Upper Rows"
   ]
  },
  {
   "cell_type": "code",
   "execution_count": 61,
   "metadata": {},
   "outputs": [
    {
     "data": {
      "text/html": [
       "<div>\n",
       "<style scoped>\n",
       "    .dataframe tbody tr th:only-of-type {\n",
       "        vertical-align: middle;\n",
       "    }\n",
       "\n",
       "    .dataframe tbody tr th {\n",
       "        vertical-align: top;\n",
       "    }\n",
       "\n",
       "    .dataframe thead th {\n",
       "        text-align: right;\n",
       "    }\n",
       "</style>\n",
       "<table border=\"1\" class=\"dataframe\">\n",
       "  <thead>\n",
       "    <tr style=\"text-align: right;\">\n",
       "      <th></th>\n",
       "      <th>Roll</th>\n",
       "      <th>FSD</th>\n",
       "      <th>Python</th>\n",
       "      <th>Remarks</th>\n",
       "    </tr>\n",
       "  </thead>\n",
       "  <tbody>\n",
       "    <tr>\n",
       "      <th>8</th>\n",
       "      <td>9</td>\n",
       "      <td>6.0</td>\n",
       "      <td>10.0</td>\n",
       "      <td>g</td>\n",
       "    </tr>\n",
       "    <tr>\n",
       "      <th>9</th>\n",
       "      <td>10</td>\n",
       "      <td>7.0</td>\n",
       "      <td>10.0</td>\n",
       "      <td>g</td>\n",
       "    </tr>\n",
       "  </tbody>\n",
       "</table>\n",
       "</div>"
      ],
      "text/plain": [
       "   Roll  FSD  Python Remarks\n",
       "8     9  6.0    10.0       g\n",
       "9    10  7.0    10.0       g"
      ]
     },
     "execution_count": 61,
     "metadata": {},
     "output_type": "execute_result"
    }
   ],
   "source": [
    "df.tail(2) # Lower Rows"
   ]
  },
  {
   "cell_type": "code",
   "execution_count": 63,
   "metadata": {},
   "outputs": [
    {
     "data": {
      "text/html": [
       "<div>\n",
       "<style scoped>\n",
       "    .dataframe tbody tr th:only-of-type {\n",
       "        vertical-align: middle;\n",
       "    }\n",
       "\n",
       "    .dataframe tbody tr th {\n",
       "        vertical-align: top;\n",
       "    }\n",
       "\n",
       "    .dataframe thead th {\n",
       "        text-align: right;\n",
       "    }\n",
       "</style>\n",
       "<table border=\"1\" class=\"dataframe\">\n",
       "  <thead>\n",
       "    <tr style=\"text-align: right;\">\n",
       "      <th></th>\n",
       "      <th>Roll</th>\n",
       "      <th>FSD</th>\n",
       "      <th>Python</th>\n",
       "      <th>Remarks</th>\n",
       "    </tr>\n",
       "  </thead>\n",
       "  <tbody>\n",
       "    <tr>\n",
       "      <th>2</th>\n",
       "      <td>3</td>\n",
       "      <td>6.0</td>\n",
       "      <td>10.0</td>\n",
       "      <td>b</td>\n",
       "    </tr>\n",
       "    <tr>\n",
       "      <th>3</th>\n",
       "      <td>4</td>\n",
       "      <td>NaN</td>\n",
       "      <td>NaN</td>\n",
       "      <td>g</td>\n",
       "    </tr>\n",
       "  </tbody>\n",
       "</table>\n",
       "</div>"
      ],
      "text/plain": [
       "   Roll  FSD  Python Remarks\n",
       "2     3  6.0    10.0       b\n",
       "3     4  NaN     NaN       g"
      ]
     },
     "execution_count": 63,
     "metadata": {},
     "output_type": "execute_result"
    }
   ],
   "source": [
    "df.sample(2) # Random Rows"
   ]
  },
  {
   "cell_type": "code",
   "execution_count": 65,
   "metadata": {},
   "outputs": [
    {
     "name": "stdout",
     "output_type": "stream",
     "text": [
      "<class 'pandas.core.frame.DataFrame'>\n",
      "RangeIndex: 10 entries, 0 to 9\n",
      "Data columns (total 4 columns):\n",
      " #   Column   Non-Null Count  Dtype  \n",
      "---  ------   --------------  -----  \n",
      " 0   Roll     10 non-null     int64  \n",
      " 1   FSD      9 non-null      float64\n",
      " 2   Python   8 non-null      float64\n",
      " 3   Remarks  10 non-null     object \n",
      "dtypes: float64(2), int64(1), object(1)\n",
      "memory usage: 448.0+ bytes\n"
     ]
    }
   ],
   "source": [
    "df.info()"
   ]
  },
  {
   "cell_type": "code",
   "execution_count": 67,
   "metadata": {},
   "outputs": [
    {
     "data": {
      "text/html": [
       "<div>\n",
       "<style scoped>\n",
       "    .dataframe tbody tr th:only-of-type {\n",
       "        vertical-align: middle;\n",
       "    }\n",
       "\n",
       "    .dataframe tbody tr th {\n",
       "        vertical-align: top;\n",
       "    }\n",
       "\n",
       "    .dataframe thead th {\n",
       "        text-align: right;\n",
       "    }\n",
       "</style>\n",
       "<table border=\"1\" class=\"dataframe\">\n",
       "  <thead>\n",
       "    <tr style=\"text-align: right;\">\n",
       "      <th></th>\n",
       "      <th>Roll</th>\n",
       "      <th>FSD</th>\n",
       "      <th>Python</th>\n",
       "    </tr>\n",
       "  </thead>\n",
       "  <tbody>\n",
       "    <tr>\n",
       "      <th>count</th>\n",
       "      <td>10.00000</td>\n",
       "      <td>9.000000</td>\n",
       "      <td>8.000000</td>\n",
       "    </tr>\n",
       "    <tr>\n",
       "      <th>mean</th>\n",
       "      <td>5.50000</td>\n",
       "      <td>7.555556</td>\n",
       "      <td>9.250000</td>\n",
       "    </tr>\n",
       "    <tr>\n",
       "      <th>std</th>\n",
       "      <td>3.02765</td>\n",
       "      <td>1.666667</td>\n",
       "      <td>1.035098</td>\n",
       "    </tr>\n",
       "    <tr>\n",
       "      <th>min</th>\n",
       "      <td>1.00000</td>\n",
       "      <td>6.000000</td>\n",
       "      <td>8.000000</td>\n",
       "    </tr>\n",
       "    <tr>\n",
       "      <th>25%</th>\n",
       "      <td>3.25000</td>\n",
       "      <td>6.000000</td>\n",
       "      <td>8.000000</td>\n",
       "    </tr>\n",
       "    <tr>\n",
       "      <th>50%</th>\n",
       "      <td>5.50000</td>\n",
       "      <td>7.000000</td>\n",
       "      <td>10.000000</td>\n",
       "    </tr>\n",
       "    <tr>\n",
       "      <th>75%</th>\n",
       "      <td>7.75000</td>\n",
       "      <td>9.000000</td>\n",
       "      <td>10.000000</td>\n",
       "    </tr>\n",
       "    <tr>\n",
       "      <th>max</th>\n",
       "      <td>10.00000</td>\n",
       "      <td>10.000000</td>\n",
       "      <td>10.000000</td>\n",
       "    </tr>\n",
       "  </tbody>\n",
       "</table>\n",
       "</div>"
      ],
      "text/plain": [
       "           Roll        FSD     Python\n",
       "count  10.00000   9.000000   8.000000\n",
       "mean    5.50000   7.555556   9.250000\n",
       "std     3.02765   1.666667   1.035098\n",
       "min     1.00000   6.000000   8.000000\n",
       "25%     3.25000   6.000000   8.000000\n",
       "50%     5.50000   7.000000  10.000000\n",
       "75%     7.75000   9.000000  10.000000\n",
       "max    10.00000  10.000000  10.000000"
      ]
     },
     "execution_count": 67,
     "metadata": {},
     "output_type": "execute_result"
    }
   ],
   "source": [
    "df.describe()"
   ]
  },
  {
   "cell_type": "code",
   "execution_count": 72,
   "metadata": {},
   "outputs": [
    {
     "data": {
      "text/html": [
       "<div>\n",
       "<style scoped>\n",
       "    .dataframe tbody tr th:only-of-type {\n",
       "        vertical-align: middle;\n",
       "    }\n",
       "\n",
       "    .dataframe tbody tr th {\n",
       "        vertical-align: top;\n",
       "    }\n",
       "\n",
       "    .dataframe thead th {\n",
       "        text-align: right;\n",
       "    }\n",
       "</style>\n",
       "<table border=\"1\" class=\"dataframe\">\n",
       "  <thead>\n",
       "    <tr style=\"text-align: right;\">\n",
       "      <th></th>\n",
       "      <th>Roll</th>\n",
       "      <th>FSD</th>\n",
       "      <th>Python</th>\n",
       "      <th>Remarks</th>\n",
       "    </tr>\n",
       "  </thead>\n",
       "  <tbody>\n",
       "    <tr>\n",
       "      <th>count</th>\n",
       "      <td>10.00000</td>\n",
       "      <td>9.000000</td>\n",
       "      <td>8.000000</td>\n",
       "      <td>10</td>\n",
       "    </tr>\n",
       "    <tr>\n",
       "      <th>unique</th>\n",
       "      <td>NaN</td>\n",
       "      <td>NaN</td>\n",
       "      <td>NaN</td>\n",
       "      <td>3</td>\n",
       "    </tr>\n",
       "    <tr>\n",
       "      <th>top</th>\n",
       "      <td>NaN</td>\n",
       "      <td>NaN</td>\n",
       "      <td>NaN</td>\n",
       "      <td>g</td>\n",
       "    </tr>\n",
       "    <tr>\n",
       "      <th>freq</th>\n",
       "      <td>NaN</td>\n",
       "      <td>NaN</td>\n",
       "      <td>NaN</td>\n",
       "      <td>6</td>\n",
       "    </tr>\n",
       "    <tr>\n",
       "      <th>mean</th>\n",
       "      <td>5.50000</td>\n",
       "      <td>7.555556</td>\n",
       "      <td>9.250000</td>\n",
       "      <td>NaN</td>\n",
       "    </tr>\n",
       "    <tr>\n",
       "      <th>std</th>\n",
       "      <td>3.02765</td>\n",
       "      <td>1.666667</td>\n",
       "      <td>1.035098</td>\n",
       "      <td>NaN</td>\n",
       "    </tr>\n",
       "    <tr>\n",
       "      <th>min</th>\n",
       "      <td>1.00000</td>\n",
       "      <td>6.000000</td>\n",
       "      <td>8.000000</td>\n",
       "      <td>NaN</td>\n",
       "    </tr>\n",
       "    <tr>\n",
       "      <th>30%</th>\n",
       "      <td>3.70000</td>\n",
       "      <td>6.400000</td>\n",
       "      <td>8.200000</td>\n",
       "      <td>NaN</td>\n",
       "    </tr>\n",
       "    <tr>\n",
       "      <th>50%</th>\n",
       "      <td>5.50000</td>\n",
       "      <td>7.000000</td>\n",
       "      <td>10.000000</td>\n",
       "      <td>NaN</td>\n",
       "    </tr>\n",
       "    <tr>\n",
       "      <th>70%</th>\n",
       "      <td>7.30000</td>\n",
       "      <td>8.200000</td>\n",
       "      <td>10.000000</td>\n",
       "      <td>NaN</td>\n",
       "    </tr>\n",
       "    <tr>\n",
       "      <th>90%</th>\n",
       "      <td>9.10000</td>\n",
       "      <td>10.000000</td>\n",
       "      <td>10.000000</td>\n",
       "      <td>NaN</td>\n",
       "    </tr>\n",
       "    <tr>\n",
       "      <th>max</th>\n",
       "      <td>10.00000</td>\n",
       "      <td>10.000000</td>\n",
       "      <td>10.000000</td>\n",
       "      <td>NaN</td>\n",
       "    </tr>\n",
       "  </tbody>\n",
       "</table>\n",
       "</div>"
      ],
      "text/plain": [
       "            Roll        FSD     Python Remarks\n",
       "count   10.00000   9.000000   8.000000      10\n",
       "unique       NaN        NaN        NaN       3\n",
       "top          NaN        NaN        NaN       g\n",
       "freq         NaN        NaN        NaN       6\n",
       "mean     5.50000   7.555556   9.250000     NaN\n",
       "std      3.02765   1.666667   1.035098     NaN\n",
       "min      1.00000   6.000000   8.000000     NaN\n",
       "30%      3.70000   6.400000   8.200000     NaN\n",
       "50%      5.50000   7.000000  10.000000     NaN\n",
       "70%      7.30000   8.200000  10.000000     NaN\n",
       "90%      9.10000  10.000000  10.000000     NaN\n",
       "max     10.00000  10.000000  10.000000     NaN"
      ]
     },
     "execution_count": 72,
     "metadata": {},
     "output_type": "execute_result"
    }
   ],
   "source": [
    "df.describe(percentiles=[0.3,0.7,0.9],include='all')"
   ]
  },
  {
   "cell_type": "code",
   "execution_count": 77,
   "metadata": {},
   "outputs": [
    {
     "data": {
      "text/html": [
       "<div>\n",
       "<style scoped>\n",
       "    .dataframe tbody tr th:only-of-type {\n",
       "        vertical-align: middle;\n",
       "    }\n",
       "\n",
       "    .dataframe tbody tr th {\n",
       "        vertical-align: top;\n",
       "    }\n",
       "\n",
       "    .dataframe thead th {\n",
       "        text-align: right;\n",
       "    }\n",
       "</style>\n",
       "<table border=\"1\" class=\"dataframe\">\n",
       "  <thead>\n",
       "    <tr style=\"text-align: right;\">\n",
       "      <th></th>\n",
       "      <th>Remarks</th>\n",
       "    </tr>\n",
       "  </thead>\n",
       "  <tbody>\n",
       "    <tr>\n",
       "      <th>count</th>\n",
       "      <td>10</td>\n",
       "    </tr>\n",
       "    <tr>\n",
       "      <th>unique</th>\n",
       "      <td>3</td>\n",
       "    </tr>\n",
       "    <tr>\n",
       "      <th>top</th>\n",
       "      <td>g</td>\n",
       "    </tr>\n",
       "    <tr>\n",
       "      <th>freq</th>\n",
       "      <td>6</td>\n",
       "    </tr>\n",
       "  </tbody>\n",
       "</table>\n",
       "</div>"
      ],
      "text/plain": [
       "       Remarks\n",
       "count       10\n",
       "unique       3\n",
       "top          g\n",
       "freq         6"
      ]
     },
     "execution_count": 77,
     "metadata": {},
     "output_type": "execute_result"
    }
   ],
   "source": [
    "import numpy as np\n",
    "df.describe(percentiles=[0.3,0.7,0.9],exclude=np.number) # by default(np.object)"
   ]
  },
  {
   "cell_type": "code",
   "execution_count": 85,
   "metadata": {},
   "outputs": [
    {
     "name": "stdout",
     "output_type": "stream",
     "text": [
      "    Roll    FSD  Python  Remarks\n",
      "0  False  False   False    False\n",
      "1  False  False   False    False\n",
      "2  False  False   False    False\n",
      "3  False   True    True    False\n",
      "4  False  False   False    False\n",
      "5  False  False    True    False\n",
      "6  False  False   False    False\n",
      "7  False  False   False    False\n",
      "8  False  False   False    False\n",
      "9  False  False   False    False\n"
     ]
    },
    {
     "data": {
      "text/plain": [
       "Roll       0\n",
       "FSD        1\n",
       "Python     2\n",
       "Remarks    0\n",
       "dtype: int64"
      ]
     },
     "execution_count": 85,
     "metadata": {},
     "output_type": "execute_result"
    }
   ],
   "source": [
    "print(df.isna())\n",
    "df.isna().sum()"
   ]
  },
  {
   "cell_type": "code",
   "execution_count": 93,
   "metadata": {},
   "outputs": [
    {
     "name": "stdout",
     "output_type": "stream",
     "text": [
      "   Roll   FSD  Python Remarks\n",
      "0     1  10.0     8.0       g\n",
      "1     2   9.0     8.0      vg\n",
      "2     3   6.0    10.0       b\n",
      "4     5  10.0     8.0       b\n",
      "6     7   6.0    10.0       g\n",
      "7     8   7.0    10.0       g\n",
      "8     9   6.0    10.0       g\n",
      "9    10   7.0    10.0       g\n",
      "\n",
      "   Roll Remarks\n",
      "0     1       g\n",
      "1     2      vg\n",
      "2     3       b\n",
      "3     4       g\n",
      "4     5       b\n",
      "5     6       b\n",
      "6     7       g\n",
      "7     8       g\n",
      "8     9       g\n",
      "9    10       g\n"
     ]
    }
   ],
   "source": [
    "print(df.dropna(axis=0)) # drop row\n",
    "print()\n",
    "print(df.dropna(axis=1)) # drop column"
   ]
  },
  {
   "cell_type": "code",
   "execution_count": 99,
   "metadata": {},
   "outputs": [
    {
     "data": {
      "text/html": [
       "<div>\n",
       "<style scoped>\n",
       "    .dataframe tbody tr th:only-of-type {\n",
       "        vertical-align: middle;\n",
       "    }\n",
       "\n",
       "    .dataframe tbody tr th {\n",
       "        vertical-align: top;\n",
       "    }\n",
       "\n",
       "    .dataframe thead th {\n",
       "        text-align: right;\n",
       "    }\n",
       "</style>\n",
       "<table border=\"1\" class=\"dataframe\">\n",
       "  <thead>\n",
       "    <tr style=\"text-align: right;\">\n",
       "      <th></th>\n",
       "      <th>Roll</th>\n",
       "      <th>FSD</th>\n",
       "      <th>Python</th>\n",
       "      <th>Remarks</th>\n",
       "    </tr>\n",
       "  </thead>\n",
       "  <tbody>\n",
       "    <tr>\n",
       "      <th>0</th>\n",
       "      <td>1</td>\n",
       "      <td>10.0</td>\n",
       "      <td>8.0</td>\n",
       "      <td>g</td>\n",
       "    </tr>\n",
       "    <tr>\n",
       "      <th>1</th>\n",
       "      <td>2</td>\n",
       "      <td>9.0</td>\n",
       "      <td>8.0</td>\n",
       "      <td>vg</td>\n",
       "    </tr>\n",
       "    <tr>\n",
       "      <th>2</th>\n",
       "      <td>3</td>\n",
       "      <td>6.0</td>\n",
       "      <td>10.0</td>\n",
       "      <td>b</td>\n",
       "    </tr>\n",
       "    <tr>\n",
       "      <th>4</th>\n",
       "      <td>5</td>\n",
       "      <td>10.0</td>\n",
       "      <td>8.0</td>\n",
       "      <td>b</td>\n",
       "    </tr>\n",
       "    <tr>\n",
       "      <th>5</th>\n",
       "      <td>6</td>\n",
       "      <td>7.0</td>\n",
       "      <td>NaN</td>\n",
       "      <td>b</td>\n",
       "    </tr>\n",
       "    <tr>\n",
       "      <th>6</th>\n",
       "      <td>7</td>\n",
       "      <td>6.0</td>\n",
       "      <td>10.0</td>\n",
       "      <td>g</td>\n",
       "    </tr>\n",
       "    <tr>\n",
       "      <th>7</th>\n",
       "      <td>8</td>\n",
       "      <td>7.0</td>\n",
       "      <td>10.0</td>\n",
       "      <td>g</td>\n",
       "    </tr>\n",
       "    <tr>\n",
       "      <th>8</th>\n",
       "      <td>9</td>\n",
       "      <td>6.0</td>\n",
       "      <td>10.0</td>\n",
       "      <td>g</td>\n",
       "    </tr>\n",
       "    <tr>\n",
       "      <th>9</th>\n",
       "      <td>10</td>\n",
       "      <td>7.0</td>\n",
       "      <td>10.0</td>\n",
       "      <td>g</td>\n",
       "    </tr>\n",
       "  </tbody>\n",
       "</table>\n",
       "</div>"
      ],
      "text/plain": [
       "   Roll   FSD  Python Remarks\n",
       "0     1  10.0     8.0       g\n",
       "1     2   9.0     8.0      vg\n",
       "2     3   6.0    10.0       b\n",
       "4     5  10.0     8.0       b\n",
       "5     6   7.0     NaN       b\n",
       "6     7   6.0    10.0       g\n",
       "7     8   7.0    10.0       g\n",
       "8     9   6.0    10.0       g\n",
       "9    10   7.0    10.0       g"
      ]
     },
     "execution_count": 99,
     "metadata": {},
     "output_type": "execute_result"
    }
   ],
   "source": [
    "df.dropna(axis=0,subset=['FSD'])"
   ]
  },
  {
   "cell_type": "code",
   "execution_count": 109,
   "metadata": {},
   "outputs": [
    {
     "data": {
      "text/html": [
       "<div>\n",
       "<style scoped>\n",
       "    .dataframe tbody tr th:only-of-type {\n",
       "        vertical-align: middle;\n",
       "    }\n",
       "\n",
       "    .dataframe tbody tr th {\n",
       "        vertical-align: top;\n",
       "    }\n",
       "\n",
       "    .dataframe thead th {\n",
       "        text-align: right;\n",
       "    }\n",
       "</style>\n",
       "<table border=\"1\" class=\"dataframe\">\n",
       "  <thead>\n",
       "    <tr style=\"text-align: right;\">\n",
       "      <th></th>\n",
       "      <th>Roll</th>\n",
       "      <th>FSD</th>\n",
       "      <th>Python</th>\n",
       "      <th>Remarks</th>\n",
       "    </tr>\n",
       "  </thead>\n",
       "  <tbody>\n",
       "    <tr>\n",
       "      <th>0</th>\n",
       "      <td>1</td>\n",
       "      <td>10.0</td>\n",
       "      <td>8.0</td>\n",
       "      <td>g</td>\n",
       "    </tr>\n",
       "    <tr>\n",
       "      <th>1</th>\n",
       "      <td>2</td>\n",
       "      <td>9.0</td>\n",
       "      <td>8.0</td>\n",
       "      <td>vg</td>\n",
       "    </tr>\n",
       "    <tr>\n",
       "      <th>2</th>\n",
       "      <td>3</td>\n",
       "      <td>6.0</td>\n",
       "      <td>10.0</td>\n",
       "      <td>b</td>\n",
       "    </tr>\n",
       "    <tr>\n",
       "      <th>4</th>\n",
       "      <td>5</td>\n",
       "      <td>10.0</td>\n",
       "      <td>8.0</td>\n",
       "      <td>b</td>\n",
       "    </tr>\n",
       "    <tr>\n",
       "      <th>5</th>\n",
       "      <td>6</td>\n",
       "      <td>7.0</td>\n",
       "      <td>NaN</td>\n",
       "      <td>b</td>\n",
       "    </tr>\n",
       "    <tr>\n",
       "      <th>6</th>\n",
       "      <td>7</td>\n",
       "      <td>6.0</td>\n",
       "      <td>10.0</td>\n",
       "      <td>g</td>\n",
       "    </tr>\n",
       "    <tr>\n",
       "      <th>7</th>\n",
       "      <td>8</td>\n",
       "      <td>7.0</td>\n",
       "      <td>10.0</td>\n",
       "      <td>g</td>\n",
       "    </tr>\n",
       "    <tr>\n",
       "      <th>8</th>\n",
       "      <td>9</td>\n",
       "      <td>6.0</td>\n",
       "      <td>10.0</td>\n",
       "      <td>g</td>\n",
       "    </tr>\n",
       "    <tr>\n",
       "      <th>9</th>\n",
       "      <td>10</td>\n",
       "      <td>7.0</td>\n",
       "      <td>10.0</td>\n",
       "      <td>g</td>\n",
       "    </tr>\n",
       "  </tbody>\n",
       "</table>\n",
       "</div>"
      ],
      "text/plain": [
       "   Roll   FSD  Python Remarks\n",
       "0     1  10.0     8.0       g\n",
       "1     2   9.0     8.0      vg\n",
       "2     3   6.0    10.0       b\n",
       "4     5  10.0     8.0       b\n",
       "5     6   7.0     NaN       b\n",
       "6     7   6.0    10.0       g\n",
       "7     8   7.0    10.0       g\n",
       "8     9   6.0    10.0       g\n",
       "9    10   7.0    10.0       g"
      ]
     },
     "execution_count": 109,
     "metadata": {},
     "output_type": "execute_result"
    }
   ],
   "source": [
    "df.dropna(axis=0,thresh=3)"
   ]
  },
  {
   "cell_type": "code",
   "execution_count": 110,
   "metadata": {},
   "outputs": [
    {
     "data": {
      "text/html": [
       "<div>\n",
       "<style scoped>\n",
       "    .dataframe tbody tr th:only-of-type {\n",
       "        vertical-align: middle;\n",
       "    }\n",
       "\n",
       "    .dataframe tbody tr th {\n",
       "        vertical-align: top;\n",
       "    }\n",
       "\n",
       "    .dataframe thead th {\n",
       "        text-align: right;\n",
       "    }\n",
       "</style>\n",
       "<table border=\"1\" class=\"dataframe\">\n",
       "  <thead>\n",
       "    <tr style=\"text-align: right;\">\n",
       "      <th></th>\n",
       "      <th>Roll</th>\n",
       "      <th>FSD</th>\n",
       "      <th>Python</th>\n",
       "      <th>Remarks</th>\n",
       "    </tr>\n",
       "  </thead>\n",
       "  <tbody>\n",
       "    <tr>\n",
       "      <th>0</th>\n",
       "      <td>1</td>\n",
       "      <td>10.0</td>\n",
       "      <td>8.0</td>\n",
       "      <td>g</td>\n",
       "    </tr>\n",
       "    <tr>\n",
       "      <th>1</th>\n",
       "      <td>2</td>\n",
       "      <td>9.0</td>\n",
       "      <td>8.0</td>\n",
       "      <td>vg</td>\n",
       "    </tr>\n",
       "    <tr>\n",
       "      <th>2</th>\n",
       "      <td>3</td>\n",
       "      <td>6.0</td>\n",
       "      <td>10.0</td>\n",
       "      <td>b</td>\n",
       "    </tr>\n",
       "    <tr>\n",
       "      <th>4</th>\n",
       "      <td>5</td>\n",
       "      <td>10.0</td>\n",
       "      <td>8.0</td>\n",
       "      <td>b</td>\n",
       "    </tr>\n",
       "    <tr>\n",
       "      <th>6</th>\n",
       "      <td>7</td>\n",
       "      <td>6.0</td>\n",
       "      <td>10.0</td>\n",
       "      <td>g</td>\n",
       "    </tr>\n",
       "    <tr>\n",
       "      <th>7</th>\n",
       "      <td>8</td>\n",
       "      <td>7.0</td>\n",
       "      <td>10.0</td>\n",
       "      <td>g</td>\n",
       "    </tr>\n",
       "    <tr>\n",
       "      <th>8</th>\n",
       "      <td>9</td>\n",
       "      <td>6.0</td>\n",
       "      <td>10.0</td>\n",
       "      <td>g</td>\n",
       "    </tr>\n",
       "    <tr>\n",
       "      <th>9</th>\n",
       "      <td>10</td>\n",
       "      <td>7.0</td>\n",
       "      <td>10.0</td>\n",
       "      <td>g</td>\n",
       "    </tr>\n",
       "  </tbody>\n",
       "</table>\n",
       "</div>"
      ],
      "text/plain": [
       "   Roll   FSD  Python Remarks\n",
       "0     1  10.0     8.0       g\n",
       "1     2   9.0     8.0      vg\n",
       "2     3   6.0    10.0       b\n",
       "4     5  10.0     8.0       b\n",
       "6     7   6.0    10.0       g\n",
       "7     8   7.0    10.0       g\n",
       "8     9   6.0    10.0       g\n",
       "9    10   7.0    10.0       g"
      ]
     },
     "execution_count": 110,
     "metadata": {},
     "output_type": "execute_result"
    }
   ],
   "source": [
    "df.dropna(axis=0,how='any') # if any value in row is null than it will be drop. By default value will be 'all'"
   ]
  },
  {
   "cell_type": "code",
   "execution_count": 112,
   "metadata": {},
   "outputs": [
    {
     "data": {
      "text/html": [
       "<div>\n",
       "<style scoped>\n",
       "    .dataframe tbody tr th:only-of-type {\n",
       "        vertical-align: middle;\n",
       "    }\n",
       "\n",
       "    .dataframe tbody tr th {\n",
       "        vertical-align: top;\n",
       "    }\n",
       "\n",
       "    .dataframe thead th {\n",
       "        text-align: right;\n",
       "    }\n",
       "</style>\n",
       "<table border=\"1\" class=\"dataframe\">\n",
       "  <thead>\n",
       "    <tr style=\"text-align: right;\">\n",
       "      <th></th>\n",
       "      <th>Roll</th>\n",
       "      <th>FSD</th>\n",
       "      <th>Python</th>\n",
       "      <th>Remarks</th>\n",
       "    </tr>\n",
       "  </thead>\n",
       "  <tbody>\n",
       "    <tr>\n",
       "      <th>0</th>\n",
       "      <td>1</td>\n",
       "      <td>10.0</td>\n",
       "      <td>8.0</td>\n",
       "      <td>g</td>\n",
       "    </tr>\n",
       "    <tr>\n",
       "      <th>1</th>\n",
       "      <td>2</td>\n",
       "      <td>9.0</td>\n",
       "      <td>8.0</td>\n",
       "      <td>vg</td>\n",
       "    </tr>\n",
       "    <tr>\n",
       "      <th>2</th>\n",
       "      <td>3</td>\n",
       "      <td>6.0</td>\n",
       "      <td>10.0</td>\n",
       "      <td>b</td>\n",
       "    </tr>\n",
       "    <tr>\n",
       "      <th>3</th>\n",
       "      <td>4</td>\n",
       "      <td>25.0</td>\n",
       "      <td>25.0</td>\n",
       "      <td>g</td>\n",
       "    </tr>\n",
       "    <tr>\n",
       "      <th>4</th>\n",
       "      <td>5</td>\n",
       "      <td>10.0</td>\n",
       "      <td>8.0</td>\n",
       "      <td>b</td>\n",
       "    </tr>\n",
       "    <tr>\n",
       "      <th>5</th>\n",
       "      <td>6</td>\n",
       "      <td>7.0</td>\n",
       "      <td>25.0</td>\n",
       "      <td>b</td>\n",
       "    </tr>\n",
       "    <tr>\n",
       "      <th>6</th>\n",
       "      <td>7</td>\n",
       "      <td>6.0</td>\n",
       "      <td>10.0</td>\n",
       "      <td>g</td>\n",
       "    </tr>\n",
       "    <tr>\n",
       "      <th>7</th>\n",
       "      <td>8</td>\n",
       "      <td>7.0</td>\n",
       "      <td>10.0</td>\n",
       "      <td>g</td>\n",
       "    </tr>\n",
       "    <tr>\n",
       "      <th>8</th>\n",
       "      <td>9</td>\n",
       "      <td>6.0</td>\n",
       "      <td>10.0</td>\n",
       "      <td>g</td>\n",
       "    </tr>\n",
       "    <tr>\n",
       "      <th>9</th>\n",
       "      <td>10</td>\n",
       "      <td>7.0</td>\n",
       "      <td>10.0</td>\n",
       "      <td>g</td>\n",
       "    </tr>\n",
       "  </tbody>\n",
       "</table>\n",
       "</div>"
      ],
      "text/plain": [
       "   Roll   FSD  Python Remarks\n",
       "0     1  10.0     8.0       g\n",
       "1     2   9.0     8.0      vg\n",
       "2     3   6.0    10.0       b\n",
       "3     4  25.0    25.0       g\n",
       "4     5  10.0     8.0       b\n",
       "5     6   7.0    25.0       b\n",
       "6     7   6.0    10.0       g\n",
       "7     8   7.0    10.0       g\n",
       "8     9   6.0    10.0       g\n",
       "9    10   7.0    10.0       g"
      ]
     },
     "execution_count": 112,
     "metadata": {},
     "output_type": "execute_result"
    }
   ],
   "source": [
    "df.fillna(25)"
   ]
  },
  {
   "cell_type": "code",
   "execution_count": 121,
   "metadata": {},
   "outputs": [
    {
     "data": {
      "text/html": [
       "<div>\n",
       "<style scoped>\n",
       "    .dataframe tbody tr th:only-of-type {\n",
       "        vertical-align: middle;\n",
       "    }\n",
       "\n",
       "    .dataframe tbody tr th {\n",
       "        vertical-align: top;\n",
       "    }\n",
       "\n",
       "    .dataframe thead th {\n",
       "        text-align: right;\n",
       "    }\n",
       "</style>\n",
       "<table border=\"1\" class=\"dataframe\">\n",
       "  <thead>\n",
       "    <tr style=\"text-align: right;\">\n",
       "      <th></th>\n",
       "      <th>Roll</th>\n",
       "      <th>FSD</th>\n",
       "      <th>Python</th>\n",
       "      <th>Remarks</th>\n",
       "    </tr>\n",
       "  </thead>\n",
       "  <tbody>\n",
       "    <tr>\n",
       "      <th>0</th>\n",
       "      <td>1</td>\n",
       "      <td>10.000000</td>\n",
       "      <td>8.00</td>\n",
       "      <td>g</td>\n",
       "    </tr>\n",
       "    <tr>\n",
       "      <th>1</th>\n",
       "      <td>2</td>\n",
       "      <td>9.000000</td>\n",
       "      <td>8.00</td>\n",
       "      <td>vg</td>\n",
       "    </tr>\n",
       "    <tr>\n",
       "      <th>2</th>\n",
       "      <td>3</td>\n",
       "      <td>6.000000</td>\n",
       "      <td>10.00</td>\n",
       "      <td>b</td>\n",
       "    </tr>\n",
       "    <tr>\n",
       "      <th>3</th>\n",
       "      <td>4</td>\n",
       "      <td>7.555556</td>\n",
       "      <td>9.25</td>\n",
       "      <td>g</td>\n",
       "    </tr>\n",
       "    <tr>\n",
       "      <th>4</th>\n",
       "      <td>5</td>\n",
       "      <td>10.000000</td>\n",
       "      <td>8.00</td>\n",
       "      <td>b</td>\n",
       "    </tr>\n",
       "    <tr>\n",
       "      <th>5</th>\n",
       "      <td>6</td>\n",
       "      <td>7.000000</td>\n",
       "      <td>9.25</td>\n",
       "      <td>b</td>\n",
       "    </tr>\n",
       "    <tr>\n",
       "      <th>6</th>\n",
       "      <td>7</td>\n",
       "      <td>6.000000</td>\n",
       "      <td>10.00</td>\n",
       "      <td>g</td>\n",
       "    </tr>\n",
       "    <tr>\n",
       "      <th>7</th>\n",
       "      <td>8</td>\n",
       "      <td>7.000000</td>\n",
       "      <td>10.00</td>\n",
       "      <td>g</td>\n",
       "    </tr>\n",
       "    <tr>\n",
       "      <th>8</th>\n",
       "      <td>9</td>\n",
       "      <td>6.000000</td>\n",
       "      <td>10.00</td>\n",
       "      <td>g</td>\n",
       "    </tr>\n",
       "    <tr>\n",
       "      <th>9</th>\n",
       "      <td>10</td>\n",
       "      <td>7.000000</td>\n",
       "      <td>10.00</td>\n",
       "      <td>g</td>\n",
       "    </tr>\n",
       "  </tbody>\n",
       "</table>\n",
       "</div>"
      ],
      "text/plain": [
       "   Roll        FSD  Python Remarks\n",
       "0     1  10.000000    8.00       g\n",
       "1     2   9.000000    8.00      vg\n",
       "2     3   6.000000   10.00       b\n",
       "3     4   7.555556    9.25       g\n",
       "4     5  10.000000    8.00       b\n",
       "5     6   7.000000    9.25       b\n",
       "6     7   6.000000   10.00       g\n",
       "7     8   7.000000   10.00       g\n",
       "8     9   6.000000   10.00       g\n",
       "9    10   7.000000   10.00       g"
      ]
     },
     "execution_count": 121,
     "metadata": {},
     "output_type": "execute_result"
    }
   ],
   "source": [
    "df.fillna(df.mean())\n",
    "# df['FSD'].fillna(df['FSD'].mean()) # for laptop"
   ]
  },
  {
   "cell_type": "code",
   "execution_count": 173,
   "metadata": {},
   "outputs": [
    {
     "name": "stdout",
     "output_type": "stream",
     "text": [
      "     0  1    2    3\n",
      "0  NaN  2  3.0  4.0\n",
      "1  2.0  3  NaN  5.0\n",
      "2  5.0  6  7.0  NaN\n",
      "\n",
      "     0  1    2    3\n",
      "0  NaN  2  3.0  4.0\n",
      "1  2.0  3  3.0  5.0\n",
      "2  5.0  6  7.0  5.0\n",
      "\n",
      "     0  1    2    3\n",
      "0  2.0  2  3.0  4.0\n",
      "1  2.0  3  3.0  5.0\n",
      "2  5.0  6  7.0  5.0\n"
     ]
    }
   ],
   "source": [
    "df = pd.DataFrame([[np.nan,2,3,4],[2,3,np.nan,5],[5,6,7,np.nan]])\n",
    "print(df)\n",
    "df=df.fillna(method='ffill')\n",
    "print()\n",
    "print(df)\n",
    "df=df.fillna(method='bfill')\n",
    "print()\n",
    "print(df)"
   ]
  },
  {
   "cell_type": "code",
   "execution_count": 134,
   "metadata": {},
   "outputs": [
    {
     "name": "stdout",
     "output_type": "stream",
     "text": [
      "      A  B  C\n",
      "row1  1  4  7\n",
      "row2  2  5  8\n",
      "row3  3  6  9\n"
     ]
    }
   ],
   "source": [
    "df = pd.DataFrame({'A':[1,2,3],'B':[4,5,6],'C':[7,8,9]},index=['row1','row2','row3'])\n",
    "print(df)"
   ]
  },
  {
   "cell_type": "code",
   "execution_count": 142,
   "metadata": {},
   "outputs": [
    {
     "data": {
      "text/html": [
       "<div>\n",
       "<style scoped>\n",
       "    .dataframe tbody tr th:only-of-type {\n",
       "        vertical-align: middle;\n",
       "    }\n",
       "\n",
       "    .dataframe tbody tr th {\n",
       "        vertical-align: top;\n",
       "    }\n",
       "\n",
       "    .dataframe thead th {\n",
       "        text-align: right;\n",
       "    }\n",
       "</style>\n",
       "<table border=\"1\" class=\"dataframe\">\n",
       "  <thead>\n",
       "    <tr style=\"text-align: right;\">\n",
       "      <th></th>\n",
       "      <th>A</th>\n",
       "      <th>B</th>\n",
       "      <th>C</th>\n",
       "    </tr>\n",
       "  </thead>\n",
       "  <tbody>\n",
       "    <tr>\n",
       "      <th>row3</th>\n",
       "      <td>3</td>\n",
       "      <td>6</td>\n",
       "      <td>9</td>\n",
       "    </tr>\n",
       "  </tbody>\n",
       "</table>\n",
       "</div>"
      ],
      "text/plain": [
       "      A  B  C\n",
       "row3  3  6  9"
      ]
     },
     "execution_count": 142,
     "metadata": {},
     "output_type": "execute_result"
    }
   ],
   "source": [
    "df.drop(['row1','row2'],axis=0)"
   ]
  },
  {
   "cell_type": "code",
   "execution_count": 164,
   "metadata": {},
   "outputs": [
    {
     "name": "stdout",
     "output_type": "stream",
     "text": [
      "   Roll   FSD  Python Remarks\n",
      "0     1  10.0     8.0       g\n",
      "1     2   9.0     8.0      vg\n",
      "2     3   6.0    10.0       b\n",
      "3     4   NaN     NaN       g\n",
      "4     5  10.0     8.0       b\n",
      "5     6   7.0     NaN       b\n",
      "6     7   6.0    10.0       g\n",
      "7     8   7.0    10.0       g\n",
      "8     9   6.0    10.0       g\n",
      "9    10   7.0    10.0       g\n"
     ]
    },
    {
     "data": {
      "text/plain": [
       "4"
      ]
     },
     "execution_count": 164,
     "metadata": {},
     "output_type": "execute_result"
    }
   ],
   "source": [
    "df = pd.read_csv('Roll2.csv')\n",
    "print(df)\n",
    "df.duplicated(subset=['FSD','Python']).sum()"
   ]
  },
  {
   "cell_type": "code",
   "execution_count": 176,
   "metadata": {},
   "outputs": [
    {
     "ename": "KeyError",
     "evalue": "Index(['FSD', 'Python'], dtype='object')",
     "output_type": "error",
     "traceback": [
      "\u001b[1;31m---------------------------------------------------------------------------\u001b[0m",
      "\u001b[1;31mKeyError\u001b[0m                                  Traceback (most recent call last)",
      "\u001b[1;32m<ipython-input-176-4bcc9a153cc8>\u001b[0m in \u001b[0;36m<module>\u001b[1;34m\u001b[0m\n\u001b[1;32m----> 1\u001b[1;33m \u001b[0mdf\u001b[0m\u001b[1;33m.\u001b[0m\u001b[0mdrop_duplicates\u001b[0m\u001b[1;33m(\u001b[0m\u001b[0msubset\u001b[0m\u001b[1;33m=\u001b[0m\u001b[1;33m[\u001b[0m\u001b[1;34m'FSD'\u001b[0m\u001b[1;33m,\u001b[0m\u001b[1;34m'Python'\u001b[0m\u001b[1;33m]\u001b[0m\u001b[1;33m,\u001b[0m\u001b[0mkeep\u001b[0m\u001b[1;33m=\u001b[0m\u001b[1;32mFalse\u001b[0m\u001b[1;33m)\u001b[0m \u001b[1;31m# keep= last,first,False\u001b[0m\u001b[1;33m\u001b[0m\u001b[1;33m\u001b[0m\u001b[0m\n\u001b[0m",
      "\u001b[1;32mC:\\ProgramData\\Anaconda3\\lib\\site-packages\\pandas\\core\\frame.py\u001b[0m in \u001b[0;36mdrop_duplicates\u001b[1;34m(self, subset, keep, inplace, ignore_index)\u001b[0m\n\u001b[0;32m   5106\u001b[0m \u001b[1;33m\u001b[0m\u001b[0m\n\u001b[0;32m   5107\u001b[0m         \u001b[0minplace\u001b[0m \u001b[1;33m=\u001b[0m \u001b[0mvalidate_bool_kwarg\u001b[0m\u001b[1;33m(\u001b[0m\u001b[0minplace\u001b[0m\u001b[1;33m,\u001b[0m \u001b[1;34m\"inplace\"\u001b[0m\u001b[1;33m)\u001b[0m\u001b[1;33m\u001b[0m\u001b[1;33m\u001b[0m\u001b[0m\n\u001b[1;32m-> 5108\u001b[1;33m         \u001b[0mduplicated\u001b[0m \u001b[1;33m=\u001b[0m \u001b[0mself\u001b[0m\u001b[1;33m.\u001b[0m\u001b[0mduplicated\u001b[0m\u001b[1;33m(\u001b[0m\u001b[0msubset\u001b[0m\u001b[1;33m,\u001b[0m \u001b[0mkeep\u001b[0m\u001b[1;33m=\u001b[0m\u001b[0mkeep\u001b[0m\u001b[1;33m)\u001b[0m\u001b[1;33m\u001b[0m\u001b[1;33m\u001b[0m\u001b[0m\n\u001b[0m\u001b[0;32m   5109\u001b[0m \u001b[1;33m\u001b[0m\u001b[0m\n\u001b[0;32m   5110\u001b[0m         \u001b[0mresult\u001b[0m \u001b[1;33m=\u001b[0m \u001b[0mself\u001b[0m\u001b[1;33m[\u001b[0m\u001b[1;33m-\u001b[0m\u001b[0mduplicated\u001b[0m\u001b[1;33m]\u001b[0m\u001b[1;33m\u001b[0m\u001b[1;33m\u001b[0m\u001b[0m\n",
      "\u001b[1;32mC:\\ProgramData\\Anaconda3\\lib\\site-packages\\pandas\\core\\frame.py\u001b[0m in \u001b[0;36mduplicated\u001b[1;34m(self, subset, keep)\u001b[0m\n\u001b[0;32m   5242\u001b[0m         \u001b[0mdiff\u001b[0m \u001b[1;33m=\u001b[0m \u001b[0mIndex\u001b[0m\u001b[1;33m(\u001b[0m\u001b[0msubset\u001b[0m\u001b[1;33m)\u001b[0m\u001b[1;33m.\u001b[0m\u001b[0mdifference\u001b[0m\u001b[1;33m(\u001b[0m\u001b[0mself\u001b[0m\u001b[1;33m.\u001b[0m\u001b[0mcolumns\u001b[0m\u001b[1;33m)\u001b[0m\u001b[1;33m\u001b[0m\u001b[1;33m\u001b[0m\u001b[0m\n\u001b[0;32m   5243\u001b[0m         \u001b[1;32mif\u001b[0m \u001b[1;32mnot\u001b[0m \u001b[0mdiff\u001b[0m\u001b[1;33m.\u001b[0m\u001b[0mempty\u001b[0m\u001b[1;33m:\u001b[0m\u001b[1;33m\u001b[0m\u001b[1;33m\u001b[0m\u001b[0m\n\u001b[1;32m-> 5244\u001b[1;33m             \u001b[1;32mraise\u001b[0m \u001b[0mKeyError\u001b[0m\u001b[1;33m(\u001b[0m\u001b[0mdiff\u001b[0m\u001b[1;33m)\u001b[0m\u001b[1;33m\u001b[0m\u001b[1;33m\u001b[0m\u001b[0m\n\u001b[0m\u001b[0;32m   5245\u001b[0m \u001b[1;33m\u001b[0m\u001b[0m\n\u001b[0;32m   5246\u001b[0m         \u001b[0mvals\u001b[0m \u001b[1;33m=\u001b[0m \u001b[1;33m(\u001b[0m\u001b[0mcol\u001b[0m\u001b[1;33m.\u001b[0m\u001b[0mvalues\u001b[0m \u001b[1;32mfor\u001b[0m \u001b[0mname\u001b[0m\u001b[1;33m,\u001b[0m \u001b[0mcol\u001b[0m \u001b[1;32min\u001b[0m \u001b[0mself\u001b[0m\u001b[1;33m.\u001b[0m\u001b[0mitems\u001b[0m\u001b[1;33m(\u001b[0m\u001b[1;33m)\u001b[0m \u001b[1;32mif\u001b[0m \u001b[0mname\u001b[0m \u001b[1;32min\u001b[0m \u001b[0msubset\u001b[0m\u001b[1;33m)\u001b[0m\u001b[1;33m\u001b[0m\u001b[1;33m\u001b[0m\u001b[0m\n",
      "\u001b[1;31mKeyError\u001b[0m: Index(['FSD', 'Python'], dtype='object')"
     ]
    }
   ],
   "source": [
    "df.drop_duplicates(subset=['FSD','Python'],keep='last') # keep= last,first,False"
   ]
  },
  {
   "cell_type": "code",
   "execution_count": 191,
   "metadata": {},
   "outputs": [
    {
     "name": "stdout",
     "output_type": "stream",
     "text": [
      "      A  B  C\n",
      "row1  1  4  7\n",
      "row2  2  5  8\n",
      "row3  3  6  9\n",
      "1\n"
     ]
    },
    {
     "data": {
      "text/plain": [
       "numpy.int64"
      ]
     },
     "execution_count": 191,
     "metadata": {},
     "output_type": "execute_result"
    }
   ],
   "source": [
    "df = pd.DataFrame({'A':[1,2,3],'B':[4,5,6],'C':[7,8,9]},index=['row1','row2','row3'])\n",
    "print(df)\n",
    "d=df.iloc[0,0]\n",
    "print(d)\n",
    "type(d)"
   ]
  },
  {
   "cell_type": "code",
   "execution_count": 192,
   "metadata": {},
   "outputs": [
    {
     "name": "stdout",
     "output_type": "stream",
     "text": [
      "A    1\n",
      "B    4\n",
      "C    7\n",
      "Name: row1, dtype: int64\n"
     ]
    },
    {
     "data": {
      "text/plain": [
       "pandas.core.series.Series"
      ]
     },
     "execution_count": 192,
     "metadata": {},
     "output_type": "execute_result"
    }
   ],
   "source": [
    "d=df.iloc[0]\n",
    "print(d)\n",
    "type(d)"
   ]
  },
  {
   "cell_type": "code",
   "execution_count": 185,
   "metadata": {},
   "outputs": [
    {
     "name": "stdout",
     "output_type": "stream",
     "text": [
      "      A  B  C\n",
      "row1  1  4  7\n"
     ]
    },
    {
     "data": {
      "text/plain": [
       "pandas.core.frame.DataFrame"
      ]
     },
     "execution_count": 185,
     "metadata": {},
     "output_type": "execute_result"
    }
   ],
   "source": [
    "d=df.iloc[[0]]\n",
    "print(d)\n",
    "type(d)"
   ]
  },
  {
   "cell_type": "code",
   "execution_count": 195,
   "metadata": {},
   "outputs": [
    {
     "name": "stdout",
     "output_type": "stream",
     "text": [
      "      A  C\n",
      "row1  1  7\n",
      "row3  3  9\n"
     ]
    },
    {
     "data": {
      "text/plain": [
       "pandas.core.frame.DataFrame"
      ]
     },
     "execution_count": 195,
     "metadata": {},
     "output_type": "execute_result"
    }
   ],
   "source": [
    "d = df.iloc[::2,::2] # row,column\n",
    "print(d)\n",
    "type(d)"
   ]
  },
  {
   "cell_type": "code",
   "execution_count": 204,
   "metadata": {},
   "outputs": [
    {
     "data": {
      "text/html": [
       "<div>\n",
       "<style scoped>\n",
       "    .dataframe tbody tr th:only-of-type {\n",
       "        vertical-align: middle;\n",
       "    }\n",
       "\n",
       "    .dataframe tbody tr th {\n",
       "        vertical-align: top;\n",
       "    }\n",
       "\n",
       "    .dataframe thead th {\n",
       "        text-align: right;\n",
       "    }\n",
       "</style>\n",
       "<table border=\"1\" class=\"dataframe\">\n",
       "  <thead>\n",
       "    <tr style=\"text-align: right;\">\n",
       "      <th></th>\n",
       "      <th>A</th>\n",
       "      <th>B</th>\n",
       "      <th>C</th>\n",
       "    </tr>\n",
       "  </thead>\n",
       "  <tbody>\n",
       "    <tr>\n",
       "      <th>row1</th>\n",
       "      <td>1</td>\n",
       "      <td>4</td>\n",
       "      <td>7</td>\n",
       "    </tr>\n",
       "    <tr>\n",
       "      <th>row3</th>\n",
       "      <td>3</td>\n",
       "      <td>6</td>\n",
       "      <td>9</td>\n",
       "    </tr>\n",
       "  </tbody>\n",
       "</table>\n",
       "</div>"
      ],
      "text/plain": [
       "      A  B  C\n",
       "row1  1  4  7\n",
       "row3  3  6  9"
      ]
     },
     "execution_count": 204,
     "metadata": {},
     "output_type": "execute_result"
    }
   ],
   "source": [
    "    df.loc[['row1','row3']]"
   ]
  },
  {
   "cell_type": "code",
   "execution_count": 3,
   "metadata": {},
   "outputs": [
    {
     "name": "stdout",
     "output_type": "stream",
     "text": [
      "   Roll   FSD  Python Remarks\n",
      "0     1  10.0     8.0       g\n",
      "1     2   9.0     8.0      vg\n",
      "2     3   6.0    10.0       b\n",
      "3     4   NaN     NaN       g\n",
      "4     5  10.0     8.0       b\n",
      "5     6   7.0     NaN       b\n",
      "6     7   6.0    10.0       g\n",
      "7     8   7.0    10.0       g\n",
      "8     9   6.0    10.0       g\n",
      "9    10   7.0    10.0       g\n",
      "\n",
      "   Roll   FSD  Python Remarks\n",
      "0     1  10.0     8.0       g\n",
      "1     2  25.0     8.0      vg\n",
      "2     3   6.0    10.0       b\n",
      "3     4   NaN     NaN       g\n",
      "4     5  10.0     8.0       b\n",
      "5     6   7.0     NaN       b\n",
      "6     7   6.0    10.0       g\n",
      "7     8   7.0    10.0       g\n",
      "8     9   6.0    10.0       g\n",
      "9    10   7.0    10.0       g\n",
      "\n"
     ]
    },
    {
     "name": "stderr",
     "output_type": "stream",
     "text": [
      "C:\\ProgramData\\Anaconda3\\lib\\site-packages\\pandas\\core\\indexing.py:670: SettingWithCopyWarning: \n",
      "A value is trying to be set on a copy of a slice from a DataFrame\n",
      "\n",
      "See the caveats in the documentation: https://pandas.pydata.org/pandas-docs/stable/user_guide/indexing.html#returning-a-view-versus-a-copy\n",
      "  iloc._setitem_with_indexer(indexer, value)\n"
     ]
    }
   ],
   "source": [
    "df = pd.read_csv('Roll2.csv')\n",
    "print(df)\n",
    "print()\n",
    "# df = df[df['FSD']>7]\n",
    "# print(df)\n",
    "# print()\n",
    "# df = df[(df['FSD']>7) & (df['Remarks']=='vg')]\n",
    "# print(df)\n",
    "# print()\n",
    "a = df[(df['FSD']>7) & (df['Remarks']=='vg')].index\n",
    "df['FSD'].iloc[a]=25\n",
    "print(df)\n",
    "print()\n"
   ]
  },
  {
   "cell_type": "code",
   "execution_count": 80,
   "metadata": {},
   "outputs": [
    {
     "name": "stdout",
     "output_type": "stream",
     "text": [
      "      mpg  cylinders  displacement horsepower  weight  acceleration  \\\n",
      "0    18.0          8         307.0        130    3504          12.0   \n",
      "1    15.0          8         350.0        165    3693          11.5   \n",
      "2    18.0          8         318.0        150    3436          11.0   \n",
      "3    16.0          8         304.0        150    3433          12.0   \n",
      "4    17.0          8         302.0        140    3449          10.5   \n",
      "..    ...        ...           ...        ...     ...           ...   \n",
      "393  27.0          4         140.0         86    2790          15.6   \n",
      "394  44.0          4          97.0         52    2130          24.6   \n",
      "395  32.0          4         135.0         84    2295          11.6   \n",
      "396  28.0          4         120.0         79    2625          18.6   \n",
      "397  31.0          4         119.0         82    2720          19.4   \n",
      "\n",
      "     model year  origin                   car name  \n",
      "0            70       1  chevrolet chevelle malibu  \n",
      "1            70       1          buick skylark 320  \n",
      "2            70       1         plymouth satellite  \n",
      "3            70       1              amc rebel sst  \n",
      "4            70       1                ford torino  \n",
      "..          ...     ...                        ...  \n",
      "393          82       1            ford mustang gl  \n",
      "394          82       2                  vw pickup  \n",
      "395          82       1              dodge rampage  \n",
      "396          82       1                ford ranger  \n",
      "397          82       1                 chevy s-10  \n",
      "\n",
      "[398 rows x 9 columns]\n"
     ]
    }
   ],
   "source": [
    "df = pd.read_csv('auto-mpg.csv')\n",
    "print(df)"
   ]
  },
  {
   "cell_type": "code",
   "execution_count": 81,
   "metadata": {},
   "outputs": [
    {
     "data": {
      "text/html": [
       "<div>\n",
       "<style scoped>\n",
       "    .dataframe tbody tr th:only-of-type {\n",
       "        vertical-align: middle;\n",
       "    }\n",
       "\n",
       "    .dataframe tbody tr th {\n",
       "        vertical-align: top;\n",
       "    }\n",
       "\n",
       "    .dataframe thead th {\n",
       "        text-align: right;\n",
       "    }\n",
       "</style>\n",
       "<table border=\"1\" class=\"dataframe\">\n",
       "  <thead>\n",
       "    <tr style=\"text-align: right;\">\n",
       "      <th></th>\n",
       "      <th>mpg</th>\n",
       "      <th>cylinders</th>\n",
       "      <th>displacement</th>\n",
       "      <th>horsepower</th>\n",
       "      <th>weight</th>\n",
       "      <th>acceleration</th>\n",
       "      <th>model year</th>\n",
       "      <th>origin</th>\n",
       "      <th>car name</th>\n",
       "    </tr>\n",
       "  </thead>\n",
       "  <tbody>\n",
       "    <tr>\n",
       "      <th>0</th>\n",
       "      <td>18.0</td>\n",
       "      <td>8</td>\n",
       "      <td>307.0</td>\n",
       "      <td>130</td>\n",
       "      <td>3504</td>\n",
       "      <td>12.0</td>\n",
       "      <td>70</td>\n",
       "      <td>1</td>\n",
       "      <td>chevrolet chevelle malibu</td>\n",
       "    </tr>\n",
       "    <tr>\n",
       "      <th>1</th>\n",
       "      <td>15.0</td>\n",
       "      <td>8</td>\n",
       "      <td>350.0</td>\n",
       "      <td>165</td>\n",
       "      <td>3693</td>\n",
       "      <td>11.5</td>\n",
       "      <td>70</td>\n",
       "      <td>1</td>\n",
       "      <td>buick skylark 320</td>\n",
       "    </tr>\n",
       "    <tr>\n",
       "      <th>2</th>\n",
       "      <td>18.0</td>\n",
       "      <td>8</td>\n",
       "      <td>318.0</td>\n",
       "      <td>150</td>\n",
       "      <td>3436</td>\n",
       "      <td>11.0</td>\n",
       "      <td>70</td>\n",
       "      <td>1</td>\n",
       "      <td>plymouth satellite</td>\n",
       "    </tr>\n",
       "    <tr>\n",
       "      <th>3</th>\n",
       "      <td>16.0</td>\n",
       "      <td>8</td>\n",
       "      <td>304.0</td>\n",
       "      <td>150</td>\n",
       "      <td>3433</td>\n",
       "      <td>12.0</td>\n",
       "      <td>70</td>\n",
       "      <td>1</td>\n",
       "      <td>amc rebel sst</td>\n",
       "    </tr>\n",
       "    <tr>\n",
       "      <th>4</th>\n",
       "      <td>17.0</td>\n",
       "      <td>8</td>\n",
       "      <td>302.0</td>\n",
       "      <td>140</td>\n",
       "      <td>3449</td>\n",
       "      <td>10.5</td>\n",
       "      <td>70</td>\n",
       "      <td>1</td>\n",
       "      <td>ford torino</td>\n",
       "    </tr>\n",
       "  </tbody>\n",
       "</table>\n",
       "</div>"
      ],
      "text/plain": [
       "    mpg  cylinders  displacement horsepower  weight  acceleration  model year  \\\n",
       "0  18.0          8         307.0        130    3504          12.0          70   \n",
       "1  15.0          8         350.0        165    3693          11.5          70   \n",
       "2  18.0          8         318.0        150    3436          11.0          70   \n",
       "3  16.0          8         304.0        150    3433          12.0          70   \n",
       "4  17.0          8         302.0        140    3449          10.5          70   \n",
       "\n",
       "   origin                   car name  \n",
       "0       1  chevrolet chevelle malibu  \n",
       "1       1          buick skylark 320  \n",
       "2       1         plymouth satellite  \n",
       "3       1              amc rebel sst  \n",
       "4       1                ford torino  "
      ]
     },
     "execution_count": 81,
     "metadata": {},
     "output_type": "execute_result"
    }
   ],
   "source": [
    "df.head()"
   ]
  },
  {
   "cell_type": "code",
   "execution_count": 82,
   "metadata": {},
   "outputs": [
    {
     "name": "stdout",
     "output_type": "stream",
     "text": [
      "              mpg   cylinders  displacement       weight  acceleration  \\\n",
      "count  398.000000  398.000000    398.000000   398.000000    398.000000   \n",
      "mean    23.514573    5.454774    193.425879  2970.424623     15.568090   \n",
      "std      7.815984    1.701004    104.269838   846.841774      2.757689   \n",
      "min      9.000000    3.000000     68.000000  1613.000000      8.000000   \n",
      "25%     17.500000    4.000000    104.250000  2223.750000     13.825000   \n",
      "50%     23.000000    4.000000    148.500000  2803.500000     15.500000   \n",
      "75%     29.000000    8.000000    262.000000  3608.000000     17.175000   \n",
      "max     46.600000    8.000000    455.000000  5140.000000     24.800000   \n",
      "\n",
      "       model year      origin  \n",
      "count  398.000000  398.000000  \n",
      "mean    76.010050    1.572864  \n",
      "std      3.697627    0.802055  \n",
      "min     70.000000    1.000000  \n",
      "25%     73.000000    1.000000  \n",
      "50%     76.000000    1.000000  \n",
      "75%     79.000000    2.000000  \n",
      "max     82.000000    3.000000  \n"
     ]
    }
   ],
   "source": [
    "print(df.describe()) # only numerical data"
   ]
  },
  {
   "cell_type": "code",
   "execution_count": 83,
   "metadata": {},
   "outputs": [
    {
     "name": "stdout",
     "output_type": "stream",
     "text": [
      "       horsepower    car name\n",
      "count         398         398\n",
      "unique         94         305\n",
      "top           150  ford pinto\n",
      "freq           22           6\n"
     ]
    }
   ],
   "source": [
    "print(df.describe(exclude=np.number)) # only categorical data"
   ]
  },
  {
   "cell_type": "code",
   "execution_count": 84,
   "metadata": {},
   "outputs": [
    {
     "name": "stdout",
     "output_type": "stream",
     "text": [
      "               mpg   cylinders  displacement horsepower       weight  \\\n",
      "count   398.000000  398.000000    398.000000        398   398.000000   \n",
      "unique         NaN         NaN           NaN         94          NaN   \n",
      "top            NaN         NaN           NaN        150          NaN   \n",
      "freq           NaN         NaN           NaN         22          NaN   \n",
      "mean     23.514573    5.454774    193.425879        NaN  2970.424623   \n",
      "std       7.815984    1.701004    104.269838        NaN   846.841774   \n",
      "min       9.000000    3.000000     68.000000        NaN  1613.000000   \n",
      "25%      17.500000    4.000000    104.250000        NaN  2223.750000   \n",
      "50%      23.000000    4.000000    148.500000        NaN  2803.500000   \n",
      "75%      29.000000    8.000000    262.000000        NaN  3608.000000   \n",
      "max      46.600000    8.000000    455.000000        NaN  5140.000000   \n",
      "\n",
      "        acceleration  model year      origin    car name  \n",
      "count     398.000000  398.000000  398.000000         398  \n",
      "unique           NaN         NaN         NaN         305  \n",
      "top              NaN         NaN         NaN  ford pinto  \n",
      "freq             NaN         NaN         NaN           6  \n",
      "mean       15.568090   76.010050    1.572864         NaN  \n",
      "std         2.757689    3.697627    0.802055         NaN  \n",
      "min         8.000000   70.000000    1.000000         NaN  \n",
      "25%        13.825000   73.000000    1.000000         NaN  \n",
      "50%        15.500000   76.000000    1.000000         NaN  \n",
      "75%        17.175000   79.000000    2.000000         NaN  \n",
      "max        24.800000   82.000000    3.000000         NaN  \n"
     ]
    }
   ],
   "source": [
    "print(df.describe(include='all')) # all data categorical + numerical data"
   ]
  },
  {
   "cell_type": "code",
   "execution_count": 85,
   "metadata": {},
   "outputs": [
    {
     "data": {
      "text/html": [
       "<div>\n",
       "<style scoped>\n",
       "    .dataframe tbody tr th:only-of-type {\n",
       "        vertical-align: middle;\n",
       "    }\n",
       "\n",
       "    .dataframe tbody tr th {\n",
       "        vertical-align: top;\n",
       "    }\n",
       "\n",
       "    .dataframe thead th {\n",
       "        text-align: right;\n",
       "    }\n",
       "</style>\n",
       "<table border=\"1\" class=\"dataframe\">\n",
       "  <thead>\n",
       "    <tr style=\"text-align: right;\">\n",
       "      <th></th>\n",
       "      <th>mpg</th>\n",
       "      <th>cylinders</th>\n",
       "      <th>displacement</th>\n",
       "      <th>horsepower</th>\n",
       "      <th>weight</th>\n",
       "      <th>acceleration</th>\n",
       "      <th>model year</th>\n",
       "      <th>origin</th>\n",
       "      <th>car name</th>\n",
       "    </tr>\n",
       "  </thead>\n",
       "  <tbody>\n",
       "    <tr>\n",
       "      <th>32</th>\n",
       "      <td>25.0</td>\n",
       "      <td>4</td>\n",
       "      <td>98.0</td>\n",
       "      <td>?</td>\n",
       "      <td>2046</td>\n",
       "      <td>19.0</td>\n",
       "      <td>71</td>\n",
       "      <td>1</td>\n",
       "      <td>ford pinto</td>\n",
       "    </tr>\n",
       "    <tr>\n",
       "      <th>126</th>\n",
       "      <td>21.0</td>\n",
       "      <td>6</td>\n",
       "      <td>200.0</td>\n",
       "      <td>?</td>\n",
       "      <td>2875</td>\n",
       "      <td>17.0</td>\n",
       "      <td>74</td>\n",
       "      <td>1</td>\n",
       "      <td>ford maverick</td>\n",
       "    </tr>\n",
       "    <tr>\n",
       "      <th>330</th>\n",
       "      <td>40.9</td>\n",
       "      <td>4</td>\n",
       "      <td>85.0</td>\n",
       "      <td>?</td>\n",
       "      <td>1835</td>\n",
       "      <td>17.3</td>\n",
       "      <td>80</td>\n",
       "      <td>2</td>\n",
       "      <td>renault lecar deluxe</td>\n",
       "    </tr>\n",
       "    <tr>\n",
       "      <th>336</th>\n",
       "      <td>23.6</td>\n",
       "      <td>4</td>\n",
       "      <td>140.0</td>\n",
       "      <td>?</td>\n",
       "      <td>2905</td>\n",
       "      <td>14.3</td>\n",
       "      <td>80</td>\n",
       "      <td>1</td>\n",
       "      <td>ford mustang cobra</td>\n",
       "    </tr>\n",
       "    <tr>\n",
       "      <th>354</th>\n",
       "      <td>34.5</td>\n",
       "      <td>4</td>\n",
       "      <td>100.0</td>\n",
       "      <td>?</td>\n",
       "      <td>2320</td>\n",
       "      <td>15.8</td>\n",
       "      <td>81</td>\n",
       "      <td>2</td>\n",
       "      <td>renault 18i</td>\n",
       "    </tr>\n",
       "    <tr>\n",
       "      <th>374</th>\n",
       "      <td>23.0</td>\n",
       "      <td>4</td>\n",
       "      <td>151.0</td>\n",
       "      <td>?</td>\n",
       "      <td>3035</td>\n",
       "      <td>20.5</td>\n",
       "      <td>82</td>\n",
       "      <td>1</td>\n",
       "      <td>amc concord dl</td>\n",
       "    </tr>\n",
       "  </tbody>\n",
       "</table>\n",
       "</div>"
      ],
      "text/plain": [
       "      mpg  cylinders  displacement horsepower  weight  acceleration  \\\n",
       "32   25.0          4          98.0          ?    2046          19.0   \n",
       "126  21.0          6         200.0          ?    2875          17.0   \n",
       "330  40.9          4          85.0          ?    1835          17.3   \n",
       "336  23.6          4         140.0          ?    2905          14.3   \n",
       "354  34.5          4         100.0          ?    2320          15.8   \n",
       "374  23.0          4         151.0          ?    3035          20.5   \n",
       "\n",
       "     model year  origin              car name  \n",
       "32           71       1            ford pinto  \n",
       "126          74       1         ford maverick  \n",
       "330          80       2  renault lecar deluxe  \n",
       "336          80       1    ford mustang cobra  \n",
       "354          81       2           renault 18i  \n",
       "374          82       1        amc concord dl  "
      ]
     },
     "execution_count": 85,
     "metadata": {},
     "output_type": "execute_result"
    }
   ],
   "source": [
    "df[df['horsepower'] == '?']"
   ]
  },
  {
   "cell_type": "code",
   "execution_count": 86,
   "metadata": {},
   "outputs": [
    {
     "data": {
      "text/plain": [
       "mpg             0\n",
       "cylinders       0\n",
       "displacement    0\n",
       "horsepower      0\n",
       "weight          0\n",
       "acceleration    0\n",
       "model year      0\n",
       "origin          0\n",
       "car name        0\n",
       "dtype: int64"
      ]
     },
     "execution_count": 86,
     "metadata": {},
     "output_type": "execute_result"
    }
   ],
   "source": [
    "df.isna().sum()"
   ]
  },
  {
   "cell_type": "code",
   "execution_count": 87,
   "metadata": {},
   "outputs": [
    {
     "data": {
      "text/plain": [
       "393"
      ]
     },
     "execution_count": 87,
     "metadata": {},
     "output_type": "execute_result"
    }
   ],
   "source": [
    "df.duplicated().sum()\n",
    "df.duplicated(subset='cylinders').sum()"
   ]
  },
  {
   "cell_type": "code",
   "execution_count": 88,
   "metadata": {},
   "outputs": [
    {
     "name": "stdout",
     "output_type": "stream",
     "text": [
      "      mpg  cylinders  displacement horsepower  weight  acceleration  \\\n",
      "0    18.0          8         307.0        130    3504          12.0   \n",
      "1    15.0          8         350.0        165    3693          11.5   \n",
      "2    18.0          8         318.0        150    3436          11.0   \n",
      "3    16.0          8         304.0        150    3433          12.0   \n",
      "4    17.0          8         302.0        140    3449          10.5   \n",
      "..    ...        ...           ...        ...     ...           ...   \n",
      "393  27.0          4         140.0         86    2790          15.6   \n",
      "394  44.0          4          97.0         52    2130          24.6   \n",
      "395  32.0          4         135.0         84    2295          11.6   \n",
      "396  28.0          4         120.0         79    2625          18.6   \n",
      "397  31.0          4         119.0         82    2720          19.4   \n",
      "\n",
      "     model year  origin                   car name  \n",
      "0            70       1  chevrolet chevelle malibu  \n",
      "1            70       1          buick skylark 320  \n",
      "2            70       1         plymouth satellite  \n",
      "3            70       1              amc rebel sst  \n",
      "4            70       1                ford torino  \n",
      "..          ...     ...                        ...  \n",
      "393          82       1            ford mustang gl  \n",
      "394          82       2                  vw pickup  \n",
      "395          82       1              dodge rampage  \n",
      "396          82       1                ford ranger  \n",
      "397          82       1                 chevy s-10  \n",
      "\n",
      "[392 rows x 9 columns]\n"
     ]
    }
   ],
   "source": [
    "df = df.drop(df[df['horsepower'] == '?'].index,axis=0)\n",
    "print(df)"
   ]
  },
  {
   "cell_type": "code",
   "execution_count": 89,
   "metadata": {},
   "outputs": [
    {
     "data": {
      "text/plain": [
       "mpg             127\n",
       "cylinders         5\n",
       "displacement     81\n",
       "horsepower       93\n",
       "weight          346\n",
       "acceleration     95\n",
       "model year       13\n",
       "origin            3\n",
       "car name        301\n",
       "dtype: int64"
      ]
     },
     "execution_count": 89,
     "metadata": {},
     "output_type": "execute_result"
    }
   ],
   "source": [
    "df.nunique()"
   ]
  },
  {
   "cell_type": "code",
   "execution_count": 90,
   "metadata": {},
   "outputs": [
    {
     "data": {
      "text/plain": [
       "1    245\n",
       "3     79\n",
       "2     68\n",
       "Name: origin, dtype: int64"
      ]
     },
     "execution_count": 90,
     "metadata": {},
     "output_type": "execute_result"
    }
   ],
   "source": [
    "# only for knowledge\n",
    "df.origin.value_counts()"
   ]
  },
  {
   "cell_type": "code",
   "execution_count": 91,
   "metadata": {},
   "outputs": [
    {
     "data": {
      "text/plain": [
       "4    199\n",
       "8    103\n",
       "6     83\n",
       "3      4\n",
       "5      3\n",
       "Name: cylinders, dtype: int64"
      ]
     },
     "execution_count": 91,
     "metadata": {},
     "output_type": "execute_result"
    }
   ],
   "source": [
    "df['cylinders'].value_counts()"
   ]
  },
  {
   "cell_type": "code",
   "execution_count": 92,
   "metadata": {},
   "outputs": [
    {
     "data": {
      "text/plain": [
       "cylinders  origin\n",
       "8          1         103\n",
       "6          1          73\n",
       "4          3          69\n",
       "           1          69\n",
       "           2          61\n",
       "6          3           6\n",
       "           2           4\n",
       "3          3           4\n",
       "5          2           3\n",
       "dtype: int64"
      ]
     },
     "execution_count": 92,
     "metadata": {},
     "output_type": "execute_result"
    }
   ],
   "source": [
    "df[['cylinders','origin']].value_counts() "
   ]
  },
  {
   "cell_type": "code",
   "execution_count": 93,
   "metadata": {},
   "outputs": [
    {
     "name": "stdout",
     "output_type": "stream",
     "text": [
      "      mpg  cylinders  displacement  horsepower  weight  acceleration  \\\n",
      "0    18.0          8         307.0         130    3504          12.0   \n",
      "1    15.0          8         350.0         165    3693          11.5   \n",
      "2    18.0          8         318.0         150    3436          11.0   \n",
      "3    16.0          8         304.0         150    3433          12.0   \n",
      "4    17.0          8         302.0         140    3449          10.5   \n",
      "..    ...        ...           ...         ...     ...           ...   \n",
      "393  27.0          4         140.0          86    2790          15.6   \n",
      "394  44.0          4          97.0          52    2130          24.6   \n",
      "395  32.0          4         135.0          84    2295          11.6   \n",
      "396  28.0          4         120.0          79    2625          18.6   \n",
      "397  31.0          4         119.0          82    2720          19.4   \n",
      "\n",
      "     model year  origin                   car name  \n",
      "0            70       1  chevrolet chevelle malibu  \n",
      "1            70       1          buick skylark 320  \n",
      "2            70       1         plymouth satellite  \n",
      "3            70       1              amc rebel sst  \n",
      "4            70       1                ford torino  \n",
      "..          ...     ...                        ...  \n",
      "393          82       1            ford mustang gl  \n",
      "394          82       2                  vw pickup  \n",
      "395          82       1              dodge rampage  \n",
      "396          82       1                ford ranger  \n",
      "397          82       1                 chevy s-10  \n",
      "\n",
      "[392 rows x 9 columns]\n"
     ]
    }
   ],
   "source": [
    "df['horsepower'] = df['horsepower'].astype('int64')\n",
    "print(df)"
   ]
  },
  {
   "cell_type": "code",
   "execution_count": 104,
   "metadata": {},
   "outputs": [
    {
     "data": {
      "text/html": [
       "<div>\n",
       "<style scoped>\n",
       "    .dataframe tbody tr th:only-of-type {\n",
       "        vertical-align: middle;\n",
       "    }\n",
       "\n",
       "    .dataframe tbody tr th {\n",
       "        vertical-align: top;\n",
       "    }\n",
       "\n",
       "    .dataframe thead th {\n",
       "        text-align: right;\n",
       "    }\n",
       "</style>\n",
       "<table border=\"1\" class=\"dataframe\">\n",
       "  <thead>\n",
       "    <tr style=\"text-align: right;\">\n",
       "      <th></th>\n",
       "      <th>mpg</th>\n",
       "      <th>cylinders</th>\n",
       "      <th>displacement</th>\n",
       "      <th>horsepower</th>\n",
       "      <th>weight</th>\n",
       "      <th>acceleration</th>\n",
       "      <th>model year</th>\n",
       "      <th>origin</th>\n",
       "    </tr>\n",
       "  </thead>\n",
       "  <tbody>\n",
       "    <tr>\n",
       "      <th>mpg</th>\n",
       "      <td>1.000000</td>\n",
       "      <td>-0.777618</td>\n",
       "      <td>-0.805127</td>\n",
       "      <td>-0.778427</td>\n",
       "      <td>-0.832244</td>\n",
       "      <td>0.423329</td>\n",
       "      <td>0.580541</td>\n",
       "      <td>0.565209</td>\n",
       "    </tr>\n",
       "    <tr>\n",
       "      <th>cylinders</th>\n",
       "      <td>-0.777618</td>\n",
       "      <td>1.000000</td>\n",
       "      <td>0.950823</td>\n",
       "      <td>0.842983</td>\n",
       "      <td>0.897527</td>\n",
       "      <td>-0.504683</td>\n",
       "      <td>-0.345647</td>\n",
       "      <td>-0.568932</td>\n",
       "    </tr>\n",
       "    <tr>\n",
       "      <th>displacement</th>\n",
       "      <td>-0.805127</td>\n",
       "      <td>0.950823</td>\n",
       "      <td>1.000000</td>\n",
       "      <td>0.897257</td>\n",
       "      <td>0.932994</td>\n",
       "      <td>-0.543800</td>\n",
       "      <td>-0.369855</td>\n",
       "      <td>-0.614535</td>\n",
       "    </tr>\n",
       "    <tr>\n",
       "      <th>horsepower</th>\n",
       "      <td>-0.778427</td>\n",
       "      <td>0.842983</td>\n",
       "      <td>0.897257</td>\n",
       "      <td>1.000000</td>\n",
       "      <td>0.864538</td>\n",
       "      <td>-0.689196</td>\n",
       "      <td>-0.416361</td>\n",
       "      <td>-0.455171</td>\n",
       "    </tr>\n",
       "    <tr>\n",
       "      <th>weight</th>\n",
       "      <td>-0.832244</td>\n",
       "      <td>0.897527</td>\n",
       "      <td>0.932994</td>\n",
       "      <td>0.864538</td>\n",
       "      <td>1.000000</td>\n",
       "      <td>-0.416839</td>\n",
       "      <td>-0.309120</td>\n",
       "      <td>-0.585005</td>\n",
       "    </tr>\n",
       "    <tr>\n",
       "      <th>acceleration</th>\n",
       "      <td>0.423329</td>\n",
       "      <td>-0.504683</td>\n",
       "      <td>-0.543800</td>\n",
       "      <td>-0.689196</td>\n",
       "      <td>-0.416839</td>\n",
       "      <td>1.000000</td>\n",
       "      <td>0.290316</td>\n",
       "      <td>0.212746</td>\n",
       "    </tr>\n",
       "    <tr>\n",
       "      <th>model year</th>\n",
       "      <td>0.580541</td>\n",
       "      <td>-0.345647</td>\n",
       "      <td>-0.369855</td>\n",
       "      <td>-0.416361</td>\n",
       "      <td>-0.309120</td>\n",
       "      <td>0.290316</td>\n",
       "      <td>1.000000</td>\n",
       "      <td>0.181528</td>\n",
       "    </tr>\n",
       "    <tr>\n",
       "      <th>origin</th>\n",
       "      <td>0.565209</td>\n",
       "      <td>-0.568932</td>\n",
       "      <td>-0.614535</td>\n",
       "      <td>-0.455171</td>\n",
       "      <td>-0.585005</td>\n",
       "      <td>0.212746</td>\n",
       "      <td>0.181528</td>\n",
       "      <td>1.000000</td>\n",
       "    </tr>\n",
       "  </tbody>\n",
       "</table>\n",
       "</div>"
      ],
      "text/plain": [
       "                   mpg  cylinders  displacement  horsepower    weight  \\\n",
       "mpg           1.000000  -0.777618     -0.805127   -0.778427 -0.832244   \n",
       "cylinders    -0.777618   1.000000      0.950823    0.842983  0.897527   \n",
       "displacement -0.805127   0.950823      1.000000    0.897257  0.932994   \n",
       "horsepower   -0.778427   0.842983      0.897257    1.000000  0.864538   \n",
       "weight       -0.832244   0.897527      0.932994    0.864538  1.000000   \n",
       "acceleration  0.423329  -0.504683     -0.543800   -0.689196 -0.416839   \n",
       "model year    0.580541  -0.345647     -0.369855   -0.416361 -0.309120   \n",
       "origin        0.565209  -0.568932     -0.614535   -0.455171 -0.585005   \n",
       "\n",
       "              acceleration  model year    origin  \n",
       "mpg               0.423329    0.580541  0.565209  \n",
       "cylinders        -0.504683   -0.345647 -0.568932  \n",
       "displacement     -0.543800   -0.369855 -0.614535  \n",
       "horsepower       -0.689196   -0.416361 -0.455171  \n",
       "weight           -0.416839   -0.309120 -0.585005  \n",
       "acceleration      1.000000    0.290316  0.212746  \n",
       "model year        0.290316    1.000000  0.181528  \n",
       "origin            0.212746    0.181528  1.000000  "
      ]
     },
     "execution_count": 104,
     "metadata": {},
     "output_type": "execute_result"
    }
   ],
   "source": [
    "df.corr()"
   ]
  },
  {
   "cell_type": "code",
   "execution_count": 105,
   "metadata": {},
   "outputs": [
    {
     "data": {
      "image/png": "[encoded data removed]",
      "text/plain": [
       "<Figure size 1440x1440 with 64 Axes>"
      ]
     },
     "metadata": {
      "needs_background": "light"
     },
     "output_type": "display_data"
    }
   ],
   "source": [
    "import matplotlib.pyplot as  plt\n",
    "pd.plotting.scatter_matrix(df,figsize=[20,20])\n",
    "plt.show()"
   ]
  },
  {
   "cell_type": "code",
   "execution_count": 111,
   "metadata": {},
   "outputs": [
    {
     "data": {
      "text/plain": [
       "<AxesSubplot:>"
      ]
     },
     "execution_count": 111,
     "metadata": {},
     "output_type": "execute_result"
    },
    {
     "data": {
      "image/png": "[encoded data removed]",
      "text/plain": [
       "<Figure size 432x288 with 1 Axes>"
      ]
     },
     "metadata": {
      "needs_background": "light"
     },
     "output_type": "display_data"
    }
   ],
   "source": [
    "pd.plotting.parallel_coordinates(df,'origin',cols=['acceleration','mpg','horsepower','cylinders'],color=['red','green','blue','yellow','pink'])"
   ]
  },
  {
   "cell_type": "code",
   "execution_count": 115,
   "metadata": {},
   "outputs": [
    {
     "data": {
      "text/plain": [
       "{'whiskers': [<matplotlib.lines.Line2D at 0x1b930d17a90>,\n",
       "  <matplotlib.lines.Line2D at 0x1b930d17df0>,\n",
       "  <matplotlib.lines.Line2D at 0x1b930d32280>,\n",
       "  <matplotlib.lines.Line2D at 0x1b930d325b0>],\n",
       " 'caps': [<matplotlib.lines.Line2D at 0x1b930d26190>,\n",
       "  <matplotlib.lines.Line2D at 0x1b930d264f0>,\n",
       "  <matplotlib.lines.Line2D at 0x1b930d328e0>,\n",
       "  <matplotlib.lines.Line2D at 0x1b930d32c10>],\n",
       " 'boxes': [<matplotlib.lines.Line2D at 0x1b930d17730>,\n",
       "  <matplotlib.lines.Line2D at 0x1b930d26f10>],\n",
       " 'medians': [<matplotlib.lines.Line2D at 0x1b930d26850>,\n",
       "  <matplotlib.lines.Line2D at 0x1b930d32f40>],\n",
       " 'fliers': [<matplotlib.lines.Line2D at 0x1b930d26bb0>,\n",
       "  <matplotlib.lines.Line2D at 0x1b930d3d2b0>],\n",
       " 'means': []}"
      ]
     },
     "execution_count": 115,
     "metadata": {},
     "output_type": "execute_result"
    },
    {
     "data": {
      "image/png": "[encoded data removed]",
      "text/plain": [
       "<Figure size 432x288 with 1 Axes>"
      ]
     },
     "metadata": {
      "needs_background": "light"
     },
     "output_type": "display_data"
    }
   ],
   "source": [
    "plt.boxplot(df[['acceleration','mpg']])"
   ]
  },
  {
   "cell_type": "code",
   "execution_count": 122,
   "metadata": {},
   "outputs": [
    {
     "data": {
      "text/plain": [
       "{'whiskers': [<matplotlib.lines.Line2D at 0x1b92e5e5e80>,\n",
       "  <matplotlib.lines.Line2D at 0x1b92f58c8e0>],\n",
       " 'caps': [<matplotlib.lines.Line2D at 0x1b92f58ce80>,\n",
       "  <matplotlib.lines.Line2D at 0x1b92f58c520>],\n",
       " 'boxes': [<matplotlib.lines.Line2D at 0x1b92e5e5ca0>],\n",
       " 'medians': [<matplotlib.lines.Line2D at 0x1b92f58c130>],\n",
       " 'fliers': [<matplotlib.lines.Line2D at 0x1b92f58fd00>],\n",
       " 'means': []}"
      ]
     },
     "execution_count": 122,
     "metadata": {},
     "output_type": "execute_result"
    },
    {
     "data": {
      "image/png": "[encoded data removed]",
      "text/plain": [
       "<Figure size 432x288 with 1 Axes>"
      ]
     },
     "metadata": {
      "needs_background": "light"
     },
     "output_type": "display_data"
    }
   ],
   "source": [
    "Q1 = df['acceleration'].quantile(0.25)\n",
    "Q3 = df['acceleration'].quantile(0.75)\n",
    "\n",
    "IQR = Q3 - Q1\n",
    "lower_bound = Q1 - 1.5 * IQR\n",
    "upper_bound = Q3 + 1.5 * IQR\n",
    "\n",
    "df = df[(df['acceleration'] < lower_bound) | (df['acceleration'] > upper_bound)]\n",
    "plt.boxplot(df['acceleration'])"
   ]
  },
  {
   "cell_type": "code",
   "execution_count": 128,
   "metadata": {},
   "outputs": [
    {
     "name": "stdout",
     "output_type": "stream",
     "text": [
      "     region  population sex   age education   income  statusquo vote\n",
      "0         N      175000   M  65.0         P  35000.0    1.00820    Y\n",
      "1         N      175000   M  29.0        PS   7500.0   -1.29617    N\n",
      "2         N      175000   F  38.0         P  15000.0    1.23072    Y\n",
      "3         N      175000   F  49.0         P  35000.0   -1.03163    N\n",
      "4         N      175000   F  23.0         S  35000.0   -1.10496    N\n",
      "...     ...         ...  ..   ...       ...      ...        ...  ...\n",
      "2695      M       15000   M  42.0         P  15000.0   -1.26247    N\n",
      "2696      M       15000   F  28.0         P  15000.0    1.32950    Y\n",
      "2697      M       15000   F  44.0         P  75000.0    1.42045    Y\n",
      "2698      M       15000   M  21.0         S  75000.0    0.18315  NaN\n",
      "2699      M       15000   M  20.0        PS  35000.0    1.38179    Y\n",
      "\n",
      "[2700 rows x 8 columns]\n"
     ]
    }
   ],
   "source": [
    "import pandas as pd\n",
    "df = pd.read_csv('chile.csv')\n",
    "print(df)"
   ]
  },
  {
   "cell_type": "code",
   "execution_count": 132,
   "metadata": {},
   "outputs": [
    {
     "name": "stdout",
     "output_type": "stream",
     "text": [
      "     region  population sex   age education   income  statusquo vote\n",
      "0         N      175000   M  65.0         P  35000.0    1.00820    Y\n",
      "1         N      175000   M  29.0        PS   7500.0   -1.29617    N\n",
      "2         N      175000   F  38.0         P  15000.0    1.23072    Y\n",
      "3         N      175000   F  49.0         P  35000.0   -1.03163    N\n",
      "4         N      175000   F  23.0         S  35000.0   -1.10496    N\n",
      "...     ...         ...  ..   ...       ...      ...        ...  ...\n",
      "2694      M       15000   M  42.0         S  35000.0   -0.00233    U\n",
      "2695      M       15000   M  42.0         P  15000.0   -1.26247    N\n",
      "2696      M       15000   F  28.0         P  15000.0    1.32950    Y\n",
      "2697      M       15000   F  44.0         P  75000.0    1.42045    Y\n",
      "2699      M       15000   M  20.0        PS  35000.0    1.38179    Y\n",
      "\n",
      "[2431 rows x 8 columns]\n"
     ]
    }
   ],
   "source": [
    "df = df.dropna()\n",
    "print(df)"
   ]
  },
  {
   "cell_type": "code",
   "execution_count": 138,
   "metadata": {},
   "outputs": [
    {
     "data": {
      "text/html": [
       "<div>\n",
       "<style scoped>\n",
       "    .dataframe tbody tr th:only-of-type {\n",
       "        vertical-align: middle;\n",
       "    }\n",
       "\n",
       "    .dataframe tbody tr th {\n",
       "        vertical-align: top;\n",
       "    }\n",
       "\n",
       "    .dataframe thead th {\n",
       "        text-align: right;\n",
       "    }\n",
       "</style>\n",
       "<table border=\"1\" class=\"dataframe\">\n",
       "  <thead>\n",
       "    <tr style=\"text-align: right;\">\n",
       "      <th>education</th>\n",
       "      <th>P</th>\n",
       "      <th>PS</th>\n",
       "      <th>S</th>\n",
       "    </tr>\n",
       "    <tr>\n",
       "      <th>sex</th>\n",
       "      <th></th>\n",
       "      <th></th>\n",
       "      <th></th>\n",
       "    </tr>\n",
       "  </thead>\n",
       "  <tbody>\n",
       "    <tr>\n",
       "      <th>F</th>\n",
       "      <td>552</td>\n",
       "      <td>184</td>\n",
       "      <td>514</td>\n",
       "    </tr>\n",
       "    <tr>\n",
       "      <th>M</th>\n",
       "      <td>450</td>\n",
       "      <td>235</td>\n",
       "      <td>496</td>\n",
       "    </tr>\n",
       "  </tbody>\n",
       "</table>\n",
       "</div>"
      ],
      "text/plain": [
       "education    P   PS    S\n",
       "sex                     \n",
       "F          552  184  514\n",
       "M          450  235  496"
      ]
     },
     "execution_count": 138,
     "metadata": {},
     "output_type": "execute_result"
    }
   ],
   "source": [
    "pd.crosstab(df['sex'] , df['education'])"
   ]
  },
  {
   "cell_type": "code",
   "execution_count": 148,
   "metadata": {},
   "outputs": [
    {
     "data": {
      "text/html": [
       "<div>\n",
       "<style scoped>\n",
       "    .dataframe tbody tr th:only-of-type {\n",
       "        vertical-align: middle;\n",
       "    }\n",
       "\n",
       "    .dataframe tbody tr th {\n",
       "        vertical-align: top;\n",
       "    }\n",
       "\n",
       "    .dataframe thead th {\n",
       "        text-align: right;\n",
       "    }\n",
       "</style>\n",
       "<table border=\"1\" class=\"dataframe\">\n",
       "  <thead>\n",
       "    <tr style=\"text-align: right;\">\n",
       "      <th>D</th>\n",
       "      <th>P</th>\n",
       "      <th>PS</th>\n",
       "      <th>S</th>\n",
       "    </tr>\n",
       "    <tr>\n",
       "      <th>V</th>\n",
       "      <th></th>\n",
       "      <th></th>\n",
       "      <th></th>\n",
       "    </tr>\n",
       "  </thead>\n",
       "  <tbody>\n",
       "    <tr>\n",
       "      <th>F</th>\n",
       "      <td>552</td>\n",
       "      <td>184</td>\n",
       "      <td>514</td>\n",
       "    </tr>\n",
       "    <tr>\n",
       "      <th>M</th>\n",
       "      <td>450</td>\n",
       "      <td>235</td>\n",
       "      <td>496</td>\n",
       "    </tr>\n",
       "  </tbody>\n",
       "</table>\n",
       "</div>"
      ],
      "text/plain": [
       "D    P   PS    S\n",
       "V               \n",
       "F  552  184  514\n",
       "M  450  235  496"
      ]
     },
     "execution_count": 148,
     "metadata": {},
     "output_type": "execute_result"
    }
   ],
   "source": [
    "pd.crosstab(df['sex'] , df['education'] ,rownames =['V'] ,colnames = ['D'])"
   ]
  },
  {
   "cell_type": "code",
   "execution_count": 149,
   "metadata": {},
   "outputs": [
    {
     "data": {
      "text/html": [
       "<div>\n",
       "<style scoped>\n",
       "    .dataframe tbody tr th:only-of-type {\n",
       "        vertical-align: middle;\n",
       "    }\n",
       "\n",
       "    .dataframe tbody tr th {\n",
       "        vertical-align: top;\n",
       "    }\n",
       "\n",
       "    .dataframe thead th {\n",
       "        text-align: right;\n",
       "    }\n",
       "</style>\n",
       "<table border=\"1\" class=\"dataframe\">\n",
       "  <thead>\n",
       "    <tr style=\"text-align: right;\">\n",
       "      <th>D</th>\n",
       "      <th>P</th>\n",
       "      <th>PS</th>\n",
       "      <th>S</th>\n",
       "      <th>All</th>\n",
       "    </tr>\n",
       "    <tr>\n",
       "      <th>V</th>\n",
       "      <th></th>\n",
       "      <th></th>\n",
       "      <th></th>\n",
       "      <th></th>\n",
       "    </tr>\n",
       "  </thead>\n",
       "  <tbody>\n",
       "    <tr>\n",
       "      <th>F</th>\n",
       "      <td>552</td>\n",
       "      <td>184</td>\n",
       "      <td>514</td>\n",
       "      <td>1250</td>\n",
       "    </tr>\n",
       "    <tr>\n",
       "      <th>M</th>\n",
       "      <td>450</td>\n",
       "      <td>235</td>\n",
       "      <td>496</td>\n",
       "      <td>1181</td>\n",
       "    </tr>\n",
       "    <tr>\n",
       "      <th>All</th>\n",
       "      <td>1002</td>\n",
       "      <td>419</td>\n",
       "      <td>1010</td>\n",
       "      <td>2431</td>\n",
       "    </tr>\n",
       "  </tbody>\n",
       "</table>\n",
       "</div>"
      ],
      "text/plain": [
       "D       P   PS     S   All\n",
       "V                         \n",
       "F     552  184   514  1250\n",
       "M     450  235   496  1181\n",
       "All  1002  419  1010  2431"
      ]
     },
     "execution_count": 149,
     "metadata": {},
     "output_type": "execute_result"
    }
   ],
   "source": [
    "pd.crosstab(df['sex'] , df['education'] ,rownames =['V'] ,colnames = ['D'] ,margins=True)"
   ]
  },
  {
   "cell_type": "code",
   "execution_count": 150,
   "metadata": {},
   "outputs": [
    {
     "data": {
      "text/html": [
       "<div>\n",
       "<style scoped>\n",
       "    .dataframe tbody tr th:only-of-type {\n",
       "        vertical-align: middle;\n",
       "    }\n",
       "\n",
       "    .dataframe tbody tr th {\n",
       "        vertical-align: top;\n",
       "    }\n",
       "\n",
       "    .dataframe thead th {\n",
       "        text-align: right;\n",
       "    }\n",
       "</style>\n",
       "<table border=\"1\" class=\"dataframe\">\n",
       "  <thead>\n",
       "    <tr style=\"text-align: right;\">\n",
       "      <th>D</th>\n",
       "      <th>P</th>\n",
       "      <th>PS</th>\n",
       "      <th>S</th>\n",
       "      <th>All</th>\n",
       "    </tr>\n",
       "    <tr>\n",
       "      <th>V</th>\n",
       "      <th></th>\n",
       "      <th></th>\n",
       "      <th></th>\n",
       "      <th></th>\n",
       "    </tr>\n",
       "  </thead>\n",
       "  <tbody>\n",
       "    <tr>\n",
       "      <th>F</th>\n",
       "      <td>0.227067</td>\n",
       "      <td>0.075689</td>\n",
       "      <td>0.211436</td>\n",
       "      <td>0.514192</td>\n",
       "    </tr>\n",
       "    <tr>\n",
       "      <th>M</th>\n",
       "      <td>0.185109</td>\n",
       "      <td>0.096668</td>\n",
       "      <td>0.204031</td>\n",
       "      <td>0.485808</td>\n",
       "    </tr>\n",
       "    <tr>\n",
       "      <th>All</th>\n",
       "      <td>0.412176</td>\n",
       "      <td>0.172357</td>\n",
       "      <td>0.415467</td>\n",
       "      <td>1.000000</td>\n",
       "    </tr>\n",
       "  </tbody>\n",
       "</table>\n",
       "</div>"
      ],
      "text/plain": [
       "D           P        PS         S       All\n",
       "V                                          \n",
       "F    0.227067  0.075689  0.211436  0.514192\n",
       "M    0.185109  0.096668  0.204031  0.485808\n",
       "All  0.412176  0.172357  0.415467  1.000000"
      ]
     },
     "execution_count": 150,
     "metadata": {},
     "output_type": "execute_result"
    }
   ],
   "source": [
    "pd.crosstab(df['sex'] , df['education'] ,rownames =['V'] ,colnames = ['D'] ,margins=True ,normalize = True)"
   ]
  },
  {
   "cell_type": "code",
   "execution_count": 155,
   "metadata": {},
   "outputs": [
    {
     "data": {
      "text/html": [
       "<div>\n",
       "<style scoped>\n",
       "    .dataframe tbody tr th:only-of-type {\n",
       "        vertical-align: middle;\n",
       "    }\n",
       "\n",
       "    .dataframe tbody tr th {\n",
       "        vertical-align: top;\n",
       "    }\n",
       "\n",
       "    .dataframe thead tr th {\n",
       "        text-align: left;\n",
       "    }\n",
       "\n",
       "    .dataframe thead tr:last-of-type th {\n",
       "        text-align: right;\n",
       "    }\n",
       "</style>\n",
       "<table border=\"1\" class=\"dataframe\">\n",
       "  <thead>\n",
       "    <tr>\n",
       "      <th></th>\n",
       "      <th colspan=\"3\" halign=\"left\">max</th>\n",
       "      <th colspan=\"3\" halign=\"left\">mean</th>\n",
       "      <th colspan=\"3\" halign=\"left\">min</th>\n",
       "    </tr>\n",
       "    <tr>\n",
       "      <th>D</th>\n",
       "      <th>P</th>\n",
       "      <th>PS</th>\n",
       "      <th>S</th>\n",
       "      <th>P</th>\n",
       "      <th>PS</th>\n",
       "      <th>S</th>\n",
       "      <th>P</th>\n",
       "      <th>PS</th>\n",
       "      <th>S</th>\n",
       "    </tr>\n",
       "    <tr>\n",
       "      <th>V</th>\n",
       "      <th></th>\n",
       "      <th></th>\n",
       "      <th></th>\n",
       "      <th></th>\n",
       "      <th></th>\n",
       "      <th></th>\n",
       "      <th></th>\n",
       "      <th></th>\n",
       "      <th></th>\n",
       "    </tr>\n",
       "  </thead>\n",
       "  <tbody>\n",
       "    <tr>\n",
       "      <th>F</th>\n",
       "      <td>125000.0</td>\n",
       "      <td>200000.0</td>\n",
       "      <td>200000.0</td>\n",
       "      <td>16449.275362</td>\n",
       "      <td>70230.978261</td>\n",
       "      <td>35267.509728</td>\n",
       "      <td>2500.0</td>\n",
       "      <td>2500.0</td>\n",
       "      <td>2500.0</td>\n",
       "    </tr>\n",
       "    <tr>\n",
       "      <th>M</th>\n",
       "      <td>200000.0</td>\n",
       "      <td>200000.0</td>\n",
       "      <td>200000.0</td>\n",
       "      <td>18866.666667</td>\n",
       "      <td>68085.106383</td>\n",
       "      <td>36456.653226</td>\n",
       "      <td>2500.0</td>\n",
       "      <td>7500.0</td>\n",
       "      <td>2500.0</td>\n",
       "    </tr>\n",
       "  </tbody>\n",
       "</table>\n",
       "</div>"
      ],
      "text/plain": [
       "        max                              mean                              \\\n",
       "D         P        PS         S             P            PS             S   \n",
       "V                                                                           \n",
       "F  125000.0  200000.0  200000.0  16449.275362  70230.978261  35267.509728   \n",
       "M  200000.0  200000.0  200000.0  18866.666667  68085.106383  36456.653226   \n",
       "\n",
       "      min                  \n",
       "D       P      PS       S  \n",
       "V                          \n",
       "F  2500.0  2500.0  2500.0  \n",
       "M  2500.0  7500.0  2500.0  "
      ]
     },
     "execution_count": 155,
     "metadata": {},
     "output_type": "execute_result"
    }
   ],
   "source": [
    "# knowledge\n",
    "pd.crosstab(df['sex'] , df['education'] ,rownames =['V'] ,colnames = ['D'] ,values = df['income'] ,aggfunc = {min,max,np.mean})"
   ]
  },
  {
   "cell_type": "code",
   "execution_count": 160,
   "metadata": {},
   "outputs": [
    {
     "data": {
      "text/html": [
       "<div>\n",
       "<style scoped>\n",
       "    .dataframe tbody tr th:only-of-type {\n",
       "        vertical-align: middle;\n",
       "    }\n",
       "\n",
       "    .dataframe tbody tr th {\n",
       "        vertical-align: top;\n",
       "    }\n",
       "\n",
       "    .dataframe thead tr th {\n",
       "        text-align: left;\n",
       "    }\n",
       "\n",
       "    .dataframe thead tr:last-of-type th {\n",
       "        text-align: right;\n",
       "    }\n",
       "</style>\n",
       "<table border=\"1\" class=\"dataframe\">\n",
       "  <thead>\n",
       "    <tr>\n",
       "      <th></th>\n",
       "      <th>education</th>\n",
       "      <th colspan=\"4\" halign=\"left\">P</th>\n",
       "      <th colspan=\"4\" halign=\"left\">PS</th>\n",
       "      <th colspan=\"4\" halign=\"left\">S</th>\n",
       "    </tr>\n",
       "    <tr>\n",
       "      <th></th>\n",
       "      <th>vote</th>\n",
       "      <th>A</th>\n",
       "      <th>N</th>\n",
       "      <th>U</th>\n",
       "      <th>Y</th>\n",
       "      <th>A</th>\n",
       "      <th>N</th>\n",
       "      <th>U</th>\n",
       "      <th>Y</th>\n",
       "      <th>A</th>\n",
       "      <th>N</th>\n",
       "      <th>U</th>\n",
       "      <th>Y</th>\n",
       "    </tr>\n",
       "    <tr>\n",
       "      <th>sex</th>\n",
       "      <th>region</th>\n",
       "      <th></th>\n",
       "      <th></th>\n",
       "      <th></th>\n",
       "      <th></th>\n",
       "      <th></th>\n",
       "      <th></th>\n",
       "      <th></th>\n",
       "      <th></th>\n",
       "      <th></th>\n",
       "      <th></th>\n",
       "      <th></th>\n",
       "      <th></th>\n",
       "    </tr>\n",
       "  </thead>\n",
       "  <tbody>\n",
       "    <tr>\n",
       "      <th rowspan=\"5\" valign=\"top\">F</th>\n",
       "      <th>C</th>\n",
       "      <td>5</td>\n",
       "      <td>22</td>\n",
       "      <td>38</td>\n",
       "      <td>53</td>\n",
       "      <td>1</td>\n",
       "      <td>15</td>\n",
       "      <td>3</td>\n",
       "      <td>8</td>\n",
       "      <td>17</td>\n",
       "      <td>37</td>\n",
       "      <td>35</td>\n",
       "      <td>35</td>\n",
       "    </tr>\n",
       "    <tr>\n",
       "      <th>M</th>\n",
       "      <td>0</td>\n",
       "      <td>3</td>\n",
       "      <td>10</td>\n",
       "      <td>15</td>\n",
       "      <td>0</td>\n",
       "      <td>1</td>\n",
       "      <td>1</td>\n",
       "      <td>2</td>\n",
       "      <td>0</td>\n",
       "      <td>2</td>\n",
       "      <td>3</td>\n",
       "      <td>6</td>\n",
       "    </tr>\n",
       "    <tr>\n",
       "      <th>N</th>\n",
       "      <td>6</td>\n",
       "      <td>13</td>\n",
       "      <td>14</td>\n",
       "      <td>45</td>\n",
       "      <td>1</td>\n",
       "      <td>10</td>\n",
       "      <td>2</td>\n",
       "      <td>12</td>\n",
       "      <td>3</td>\n",
       "      <td>17</td>\n",
       "      <td>10</td>\n",
       "      <td>26</td>\n",
       "    </tr>\n",
       "    <tr>\n",
       "      <th>S</th>\n",
       "      <td>8</td>\n",
       "      <td>33</td>\n",
       "      <td>43</td>\n",
       "      <td>81</td>\n",
       "      <td>3</td>\n",
       "      <td>17</td>\n",
       "      <td>7</td>\n",
       "      <td>13</td>\n",
       "      <td>12</td>\n",
       "      <td>37</td>\n",
       "      <td>34</td>\n",
       "      <td>42</td>\n",
       "    </tr>\n",
       "    <tr>\n",
       "      <th>SA</th>\n",
       "      <td>12</td>\n",
       "      <td>41</td>\n",
       "      <td>62</td>\n",
       "      <td>48</td>\n",
       "      <td>8</td>\n",
       "      <td>43</td>\n",
       "      <td>16</td>\n",
       "      <td>21</td>\n",
       "      <td>21</td>\n",
       "      <td>64</td>\n",
       "      <td>61</td>\n",
       "      <td>52</td>\n",
       "    </tr>\n",
       "    <tr>\n",
       "      <th rowspan=\"5\" valign=\"top\">M</th>\n",
       "      <th>C</th>\n",
       "      <td>6</td>\n",
       "      <td>48</td>\n",
       "      <td>34</td>\n",
       "      <td>32</td>\n",
       "      <td>2</td>\n",
       "      <td>33</td>\n",
       "      <td>3</td>\n",
       "      <td>11</td>\n",
       "      <td>13</td>\n",
       "      <td>54</td>\n",
       "      <td>17</td>\n",
       "      <td>26</td>\n",
       "    </tr>\n",
       "    <tr>\n",
       "      <th>M</th>\n",
       "      <td>1</td>\n",
       "      <td>5</td>\n",
       "      <td>3</td>\n",
       "      <td>6</td>\n",
       "      <td>0</td>\n",
       "      <td>0</td>\n",
       "      <td>0</td>\n",
       "      <td>2</td>\n",
       "      <td>1</td>\n",
       "      <td>6</td>\n",
       "      <td>2</td>\n",
       "      <td>6</td>\n",
       "    </tr>\n",
       "    <tr>\n",
       "      <th>N</th>\n",
       "      <td>2</td>\n",
       "      <td>15</td>\n",
       "      <td>11</td>\n",
       "      <td>27</td>\n",
       "      <td>5</td>\n",
       "      <td>19</td>\n",
       "      <td>4</td>\n",
       "      <td>8</td>\n",
       "      <td>12</td>\n",
       "      <td>24</td>\n",
       "      <td>5</td>\n",
       "      <td>14</td>\n",
       "    </tr>\n",
       "    <tr>\n",
       "      <th>S</th>\n",
       "      <td>5</td>\n",
       "      <td>35</td>\n",
       "      <td>36</td>\n",
       "      <td>69</td>\n",
       "      <td>5</td>\n",
       "      <td>32</td>\n",
       "      <td>3</td>\n",
       "      <td>15</td>\n",
       "      <td>6</td>\n",
       "      <td>55</td>\n",
       "      <td>17</td>\n",
       "      <td>47</td>\n",
       "    </tr>\n",
       "    <tr>\n",
       "      <th>SA</th>\n",
       "      <td>4</td>\n",
       "      <td>47</td>\n",
       "      <td>31</td>\n",
       "      <td>33</td>\n",
       "      <td>5</td>\n",
       "      <td>50</td>\n",
       "      <td>7</td>\n",
       "      <td>31</td>\n",
       "      <td>13</td>\n",
       "      <td>89</td>\n",
       "      <td>39</td>\n",
       "      <td>50</td>\n",
       "    </tr>\n",
       "  </tbody>\n",
       "</table>\n",
       "</div>"
      ],
      "text/plain": [
       "education    P             PS               S            \n",
       "vote         A   N   U   Y  A   N   U   Y   A   N   U   Y\n",
       "sex region                                               \n",
       "F   C        5  22  38  53  1  15   3   8  17  37  35  35\n",
       "    M        0   3  10  15  0   1   1   2   0   2   3   6\n",
       "    N        6  13  14  45  1  10   2  12   3  17  10  26\n",
       "    S        8  33  43  81  3  17   7  13  12  37  34  42\n",
       "    SA      12  41  62  48  8  43  16  21  21  64  61  52\n",
       "M   C        6  48  34  32  2  33   3  11  13  54  17  26\n",
       "    M        1   5   3   6  0   0   0   2   1   6   2   6\n",
       "    N        2  15  11  27  5  19   4   8  12  24   5  14\n",
       "    S        5  35  36  69  5  32   3  15   6  55  17  47\n",
       "    SA       4  47  31  33  5  50   7  31  13  89  39  50"
      ]
     },
     "execution_count": 160,
     "metadata": {},
     "output_type": "execute_result"
    }
   ],
   "source": [
    "pd.crosstab([df['sex'] ,df['region']] , [df['education'],df['vote']])"
   ]
  },
  {
   "cell_type": "code",
   "execution_count": null,
   "metadata": {},
   "outputs": [],
   "source": []
  }
 ],
 "metadata": {
  "kernelspec": {
   "display_name": "Python 3",
   "language": "python",
   "name": "python3"
  },
  "language_info": {
   "codemirror_mode": {
    "name": "ipython",
    "version": 3
   },
   "file_extension": ".py",
   "mimetype": "text/x-python",
   "name": "python",
   "nbconvert_exporter": "python",
   "pygments_lexer": "ipython3",
   "version": "3.8.5"
  }
 },
 "nbformat": 4,
 "nbformat_minor": 4
}
